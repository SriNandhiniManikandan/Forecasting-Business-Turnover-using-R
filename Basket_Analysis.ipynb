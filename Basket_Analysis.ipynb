{
  "nbformat": 4,
  "nbformat_minor": 0,
  "metadata": {
    "colab": {
      "name": "Basket_Analysis",
      "provenance": [],
      "collapsed_sections": [],
      "authorship_tag": "ABX9TyMj6Gn6+vgfw2Sk2WM46NX2",
      "include_colab_link": true
    },
    "kernelspec": {
      "name": "python3",
      "display_name": "Python 3"
    }
  },
  "cells": [
    {
      "cell_type": "markdown",
      "metadata": {
        "id": "view-in-github",
        "colab_type": "text"
      },
      "source": [
        "<a href=\"https://colab.research.google.com/github/SriNandhiniManikandan/Forecasting-Business-Turnover-using-R/blob/master/Basket_Analysis.ipynb\" target=\"_parent\"><img src=\"https://colab.research.google.com/assets/colab-badge.svg\" alt=\"Open In Colab\"/></a>"
      ]
    },
    {
      "cell_type": "code",
      "metadata": {
        "id": "ulQ-osSzg4aD",
        "colab": {
          "base_uri": "https://localhost:8080/",
          "height": 138
        },
        "outputId": "8db372a0-0e02-4eb0-8c9d-2aeadb1721b7"
      },
      "source": [
        "# for basic operations\n",
        "import pandas as pd\n",
        "import numpy as np\n",
        "\n",
        "#for path\n",
        "from google.colab import drive\n",
        "\n",
        "#for visualisations\n",
        "import seaborn as sns\n",
        "!pip install squarify\n",
        "import squarify\n",
        "import matplotlib.pyplot as plt\n",
        "\n",
        "#for analysis\n",
        "from mlxtend.frequent_patterns import apriori\n",
        "from mlxtend.frequent_patterns import association_rules\n",
        "\n",
        "\n",
        "\n"
      ],
      "execution_count": null,
      "outputs": [
        {
          "output_type": "stream",
          "text": [
            "/usr/local/lib/python3.6/dist-packages/statsmodels/tools/_testing.py:19: FutureWarning: pandas.util.testing is deprecated. Use the functions in the public API at pandas.testing instead.\n",
            "  import pandas.util.testing as tm\n"
          ],
          "name": "stderr"
        },
        {
          "output_type": "stream",
          "text": [
            "Collecting squarify\n",
            "  Downloading https://files.pythonhosted.org/packages/0b/2b/2e77c35326efec19819cd1d729540d4d235e6c2a3f37658288a363a67da5/squarify-0.4.3-py3-none-any.whl\n",
            "Installing collected packages: squarify\n",
            "Successfully installed squarify-0.4.3\n"
          ],
          "name": "stdout"
        }
      ]
    },
    {
      "cell_type": "code",
      "metadata": {
        "id": "9Izw1Ckig8W5",
        "colab": {
          "base_uri": "https://localhost:8080/",
          "height": 121
        },
        "outputId": "e4fbef77-1d38-4258-ac12-fa18c98156ec"
      },
      "source": [
        "drive.mount('/content/drive')"
      ],
      "execution_count": null,
      "outputs": [
        {
          "output_type": "stream",
          "text": [
            "Go to this URL in a browser: https://accounts.google.com/o/oauth2/auth?client_id=947318989803-6bn6qk8qdgf4n4g3pfee6491hc0brc4i.apps.googleusercontent.com&redirect_uri=urn%3aietf%3awg%3aoauth%3a2.0%3aoob&response_type=code&scope=email%20https%3a%2f%2fwww.googleapis.com%2fauth%2fdocs.test%20https%3a%2f%2fwww.googleapis.com%2fauth%2fdrive%20https%3a%2f%2fwww.googleapis.com%2fauth%2fdrive.photos.readonly%20https%3a%2f%2fwww.googleapis.com%2fauth%2fpeopleapi.readonly\n",
            "\n",
            "Enter your authorization code:\n",
            "··········\n",
            "Mounted at /content/drive\n"
          ],
          "name": "stdout"
        }
      ]
    },
    {
      "cell_type": "code",
      "metadata": {
        "id": "8KKT5hDfhDXn",
        "colab": {
          "base_uri": "https://localhost:8080/",
          "height": 34
        },
        "outputId": "59b7ecc1-e5dd-4d6d-d49a-957d58d1ef18"
      },
      "source": [
        "path = \"/content/drive/My Drive/transaction_data.csv\"\n",
        "df1 = pd.read_csv(path) \n",
        "len(df1)"
      ],
      "execution_count": null,
      "outputs": [
        {
          "output_type": "execute_result",
          "data": {
            "text/plain": [
              "1083818"
            ]
          },
          "metadata": {
            "tags": []
          },
          "execution_count": 4
        }
      ]
    },
    {
      "cell_type": "markdown",
      "metadata": {
        "id": "Iipeij5iwfWb"
      },
      "source": [
        "# EXPLORATORY DATA ANALYSIS (EDA)"
      ]
    },
    {
      "cell_type": "code",
      "metadata": {
        "id": "I63bHnW-vl4i",
        "colab": {
          "base_uri": "https://localhost:8080/",
          "height": 195
        },
        "outputId": "1218ccb7-9d95-4c88-ba38-5dd1b8210398"
      },
      "source": [
        "df1.head()"
      ],
      "execution_count": null,
      "outputs": [
        {
          "output_type": "execute_result",
          "data": {
            "text/html": [
              "<div>\n",
              "<style scoped>\n",
              "    .dataframe tbody tr th:only-of-type {\n",
              "        vertical-align: middle;\n",
              "    }\n",
              "\n",
              "    .dataframe tbody tr th {\n",
              "        vertical-align: top;\n",
              "    }\n",
              "\n",
              "    .dataframe thead th {\n",
              "        text-align: right;\n",
              "    }\n",
              "</style>\n",
              "<table border=\"1\" class=\"dataframe\">\n",
              "  <thead>\n",
              "    <tr style=\"text-align: right;\">\n",
              "      <th></th>\n",
              "      <th>UserId</th>\n",
              "      <th>TransactionId</th>\n",
              "      <th>TransactionTime</th>\n",
              "      <th>ItemCode</th>\n",
              "      <th>ItemDescription</th>\n",
              "      <th>NumberOfItemsPurchased</th>\n",
              "      <th>CostPerItem</th>\n",
              "      <th>Country</th>\n",
              "    </tr>\n",
              "  </thead>\n",
              "  <tbody>\n",
              "    <tr>\n",
              "      <th>0</th>\n",
              "      <td>278166</td>\n",
              "      <td>6355745</td>\n",
              "      <td>Sat Feb 02 12:50:00 IST 2019</td>\n",
              "      <td>465549</td>\n",
              "      <td>FAMILY ALBUM WHITE PICTURE FRAME</td>\n",
              "      <td>6</td>\n",
              "      <td>11.73</td>\n",
              "      <td>United Kingdom</td>\n",
              "    </tr>\n",
              "    <tr>\n",
              "      <th>1</th>\n",
              "      <td>337701</td>\n",
              "      <td>6283376</td>\n",
              "      <td>Wed Dec 26 09:06:00 IST 2018</td>\n",
              "      <td>482370</td>\n",
              "      <td>LONDON BUS COFFEE MUG</td>\n",
              "      <td>3</td>\n",
              "      <td>3.52</td>\n",
              "      <td>United Kingdom</td>\n",
              "    </tr>\n",
              "    <tr>\n",
              "      <th>2</th>\n",
              "      <td>267099</td>\n",
              "      <td>6385599</td>\n",
              "      <td>Fri Feb 15 09:45:00 IST 2019</td>\n",
              "      <td>490728</td>\n",
              "      <td>SET 12 COLOUR PENCILS DOLLY GIRL</td>\n",
              "      <td>72</td>\n",
              "      <td>0.90</td>\n",
              "      <td>France</td>\n",
              "    </tr>\n",
              "    <tr>\n",
              "      <th>3</th>\n",
              "      <td>380478</td>\n",
              "      <td>6044973</td>\n",
              "      <td>Fri Jun 22 07:14:00 IST 2018</td>\n",
              "      <td>459186</td>\n",
              "      <td>UNION JACK FLAG LUGGAGE TAG</td>\n",
              "      <td>3</td>\n",
              "      <td>1.73</td>\n",
              "      <td>United Kingdom</td>\n",
              "    </tr>\n",
              "    <tr>\n",
              "      <th>4</th>\n",
              "      <td>-1</td>\n",
              "      <td>6143225</td>\n",
              "      <td>Mon Sep 10 11:58:00 IST 2018</td>\n",
              "      <td>1733592</td>\n",
              "      <td>WASHROOM METAL SIGN</td>\n",
              "      <td>3</td>\n",
              "      <td>3.40</td>\n",
              "      <td>United Kingdom</td>\n",
              "    </tr>\n",
              "  </tbody>\n",
              "</table>\n",
              "</div>"
            ],
            "text/plain": [
              "   UserId  TransactionId  ... CostPerItem         Country\n",
              "0  278166        6355745  ...       11.73  United Kingdom\n",
              "1  337701        6283376  ...        3.52  United Kingdom\n",
              "2  267099        6385599  ...        0.90          France\n",
              "3  380478        6044973  ...        1.73  United Kingdom\n",
              "4      -1        6143225  ...        3.40  United Kingdom\n",
              "\n",
              "[5 rows x 8 columns]"
            ]
          },
          "metadata": {
            "tags": []
          },
          "execution_count": 5
        }
      ]
    },
    {
      "cell_type": "code",
      "metadata": {
        "id": "ApRn9wv1wl5V",
        "colab": {
          "base_uri": "https://localhost:8080/",
          "height": 195
        },
        "outputId": "29167206-f3af-40ca-c7c7-5e43d0a569ba"
      },
      "source": [
        "df1.tail()"
      ],
      "execution_count": null,
      "outputs": [
        {
          "output_type": "execute_result",
          "data": {
            "text/html": [
              "<div>\n",
              "<style scoped>\n",
              "    .dataframe tbody tr th:only-of-type {\n",
              "        vertical-align: middle;\n",
              "    }\n",
              "\n",
              "    .dataframe tbody tr th {\n",
              "        vertical-align: top;\n",
              "    }\n",
              "\n",
              "    .dataframe thead th {\n",
              "        text-align: right;\n",
              "    }\n",
              "</style>\n",
              "<table border=\"1\" class=\"dataframe\">\n",
              "  <thead>\n",
              "    <tr style=\"text-align: right;\">\n",
              "      <th></th>\n",
              "      <th>UserId</th>\n",
              "      <th>TransactionId</th>\n",
              "      <th>TransactionTime</th>\n",
              "      <th>ItemCode</th>\n",
              "      <th>ItemDescription</th>\n",
              "      <th>NumberOfItemsPurchased</th>\n",
              "      <th>CostPerItem</th>\n",
              "      <th>Country</th>\n",
              "    </tr>\n",
              "  </thead>\n",
              "  <tbody>\n",
              "    <tr>\n",
              "      <th>1083813</th>\n",
              "      <td>313131</td>\n",
              "      <td>6040298</td>\n",
              "      <td>Mon Jun 18 09:18:00 IST 2018</td>\n",
              "      <td>437976</td>\n",
              "      <td>DENIM PATCH PURSE PINK BUTTERFLY</td>\n",
              "      <td>30</td>\n",
              "      <td>2.28</td>\n",
              "      <td>EIRE</td>\n",
              "    </tr>\n",
              "    <tr>\n",
              "      <th>1083814</th>\n",
              "      <td>295743</td>\n",
              "      <td>6387117</td>\n",
              "      <td>Sat Feb 16 09:14:00 IST 2019</td>\n",
              "      <td>484113</td>\n",
              "      <td>RECYCLED ACAPULCO MAT PINK</td>\n",
              "      <td>6</td>\n",
              "      <td>11.39</td>\n",
              "      <td>United Kingdom</td>\n",
              "    </tr>\n",
              "    <tr>\n",
              "      <th>1083815</th>\n",
              "      <td>-1</td>\n",
              "      <td>6361817</td>\n",
              "      <td>Tue Feb 05 05:26:00 IST 2019</td>\n",
              "      <td>497595</td>\n",
              "      <td>DOILY THANK YOU CARD</td>\n",
              "      <td>15</td>\n",
              "      <td>1.15</td>\n",
              "      <td>United Kingdom</td>\n",
              "    </tr>\n",
              "    <tr>\n",
              "      <th>1083816</th>\n",
              "      <td>324765</td>\n",
              "      <td>5945500</td>\n",
              "      <td>Fri Mar 23 06:26:00 IST 2018</td>\n",
              "      <td>470883</td>\n",
              "      <td>REGENCY CAKESTAND 3 TIER</td>\n",
              "      <td>48</td>\n",
              "      <td>15.12</td>\n",
              "      <td>United Kingdom</td>\n",
              "    </tr>\n",
              "    <tr>\n",
              "      <th>1083817</th>\n",
              "      <td>351645</td>\n",
              "      <td>6118145</td>\n",
              "      <td>Tue Aug 21 08:21:00 IST 2018</td>\n",
              "      <td>471849</td>\n",
              "      <td>HEART OF WICKER SMALL</td>\n",
              "      <td>9</td>\n",
              "      <td>2.28</td>\n",
              "      <td>United Kingdom</td>\n",
              "    </tr>\n",
              "  </tbody>\n",
              "</table>\n",
              "</div>"
            ],
            "text/plain": [
              "         UserId  TransactionId  ... CostPerItem         Country\n",
              "1083813  313131        6040298  ...        2.28            EIRE\n",
              "1083814  295743        6387117  ...       11.39  United Kingdom\n",
              "1083815      -1        6361817  ...        1.15  United Kingdom\n",
              "1083816  324765        5945500  ...       15.12  United Kingdom\n",
              "1083817  351645        6118145  ...        2.28  United Kingdom\n",
              "\n",
              "[5 rows x 8 columns]"
            ]
          },
          "metadata": {
            "tags": []
          },
          "execution_count": 6
        }
      ]
    },
    {
      "cell_type": "code",
      "metadata": {
        "id": "yTGS1idvqrst",
        "colab": {
          "base_uri": "https://localhost:8080/",
          "height": 34
        },
        "outputId": "b1d5a28c-e0b9-474f-b25d-3d5415285785"
      },
      "source": [
        "type(df1)"
      ],
      "execution_count": null,
      "outputs": [
        {
          "output_type": "execute_result",
          "data": {
            "text/plain": [
              "pandas.core.frame.DataFrame"
            ]
          },
          "metadata": {
            "tags": []
          },
          "execution_count": 7
        }
      ]
    },
    {
      "cell_type": "code",
      "metadata": {
        "id": "J6tqHXGoxXqU",
        "colab": {
          "base_uri": "https://localhost:8080/",
          "height": 284
        },
        "outputId": "0962f8bf-2170-4c6b-c5dd-a90ac9a6e400"
      },
      "source": [
        "1# !!! gives the all necessary descriptive statistic measure for each coloumn \n",
        "df1.describe()\n"
      ],
      "execution_count": null,
      "outputs": [
        {
          "output_type": "execute_result",
          "data": {
            "text/html": [
              "<div>\n",
              "<style scoped>\n",
              "    .dataframe tbody tr th:only-of-type {\n",
              "        vertical-align: middle;\n",
              "    }\n",
              "\n",
              "    .dataframe tbody tr th {\n",
              "        vertical-align: top;\n",
              "    }\n",
              "\n",
              "    .dataframe thead th {\n",
              "        text-align: right;\n",
              "    }\n",
              "</style>\n",
              "<table border=\"1\" class=\"dataframe\">\n",
              "  <thead>\n",
              "    <tr style=\"text-align: right;\">\n",
              "      <th></th>\n",
              "      <th>UserId</th>\n",
              "      <th>TransactionId</th>\n",
              "      <th>ItemCode</th>\n",
              "      <th>NumberOfItemsPurchased</th>\n",
              "      <th>CostPerItem</th>\n",
              "      <th>TotalCost</th>\n",
              "    </tr>\n",
              "  </thead>\n",
              "  <tbody>\n",
              "    <tr>\n",
              "      <th>count</th>\n",
              "      <td>1.083818e+06</td>\n",
              "      <td>1.083818e+06</td>\n",
              "      <td>1.083818e+06</td>\n",
              "      <td>1.083818e+06</td>\n",
              "      <td>1.083818e+06</td>\n",
              "      <td>1.083818e+06</td>\n",
              "    </tr>\n",
              "    <tr>\n",
              "      <th>mean</th>\n",
              "      <td>2.410162e+05</td>\n",
              "      <td>6.159417e+06</td>\n",
              "      <td>6.582687e+05</td>\n",
              "      <td>2.865675e+01</td>\n",
              "      <td>9.498798e+00</td>\n",
              "      <td>1.497422e+02</td>\n",
              "    </tr>\n",
              "    <tr>\n",
              "      <th>std</th>\n",
              "      <td>1.423364e+05</td>\n",
              "      <td>1.476341e+05</td>\n",
              "      <td>4.526314e+05</td>\n",
              "      <td>6.542432e+02</td>\n",
              "      <td>2.308139e+03</td>\n",
              "      <td>5.532502e+04</td>\n",
              "    </tr>\n",
              "    <tr>\n",
              "      <th>min</th>\n",
              "      <td>-1.000000e+00</td>\n",
              "      <td>5.900015e+06</td>\n",
              "      <td>-1.000000e+00</td>\n",
              "      <td>-2.429850e+05</td>\n",
              "      <td>-1.526564e+04</td>\n",
              "      <td>-6.997968e+05</td>\n",
              "    </tr>\n",
              "    <tr>\n",
              "      <th>25%</th>\n",
              "      <td>2.593920e+05</td>\n",
              "      <td>6.026856e+06</td>\n",
              "      <td>4.609080e+05</td>\n",
              "      <td>3.000000e+00</td>\n",
              "      <td>1.730000e+00</td>\n",
              "      <td>1.416000e+01</td>\n",
              "    </tr>\n",
              "    <tr>\n",
              "      <th>50%</th>\n",
              "      <td>3.020220e+05</td>\n",
              "      <td>6.166611e+06</td>\n",
              "      <td>4.752930e+05</td>\n",
              "      <td>9.000000e+00</td>\n",
              "      <td>2.880000e+00</td>\n",
              "      <td>4.041000e+01</td>\n",
              "    </tr>\n",
              "    <tr>\n",
              "      <th>75%</th>\n",
              "      <td>3.413550e+05</td>\n",
              "      <td>6.289569e+06</td>\n",
              "      <td>4.889430e+05</td>\n",
              "      <td>3.000000e+01</td>\n",
              "      <td>5.700000e+00</td>\n",
              "      <td>7.236000e+01</td>\n",
              "    </tr>\n",
              "    <tr>\n",
              "      <th>max</th>\n",
              "      <td>3.840270e+05</td>\n",
              "      <td>6.397457e+06</td>\n",
              "      <td>1.894494e+06</td>\n",
              "      <td>2.429850e+05</td>\n",
              "      <td>1.696285e+06</td>\n",
              "      <td>4.071085e+07</td>\n",
              "    </tr>\n",
              "  </tbody>\n",
              "</table>\n",
              "</div>"
            ],
            "text/plain": [
              "             UserId  TransactionId  ...   CostPerItem     TotalCost\n",
              "count  1.083818e+06   1.083818e+06  ...  1.083818e+06  1.083818e+06\n",
              "mean   2.410162e+05   6.159417e+06  ...  9.498798e+00  1.497422e+02\n",
              "std    1.423364e+05   1.476341e+05  ...  2.308139e+03  5.532502e+04\n",
              "min   -1.000000e+00   5.900015e+06  ... -1.526564e+04 -6.997968e+05\n",
              "25%    2.593920e+05   6.026856e+06  ...  1.730000e+00  1.416000e+01\n",
              "50%    3.020220e+05   6.166611e+06  ...  2.880000e+00  4.041000e+01\n",
              "75%    3.413550e+05   6.289569e+06  ...  5.700000e+00  7.236000e+01\n",
              "max    3.840270e+05   6.397457e+06  ...  1.696285e+06  4.071085e+07\n",
              "\n",
              "[8 rows x 6 columns]"
            ]
          },
          "metadata": {
            "tags": []
          },
          "execution_count": 54
        }
      ]
    },
    {
      "cell_type": "code",
      "metadata": {
        "id": "mOiqjf-sxnIP",
        "colab": {
          "base_uri": "https://localhost:8080/",
          "height": 269
        },
        "outputId": "bfc32abe-8a96-46f4-89c4-4d923bb5cd0b"
      },
      "source": [
        "#Gives the Non-Null content data count and the Data type of each coloumn\n",
        "df1.info()\n"
      ],
      "execution_count": null,
      "outputs": [
        {
          "output_type": "stream",
          "text": [
            "<class 'pandas.core.frame.DataFrame'>\n",
            "RangeIndex: 1083818 entries, 0 to 1083817\n",
            "Data columns (total 8 columns):\n",
            " #   Column                  Non-Null Count    Dtype  \n",
            "---  ------                  --------------    -----  \n",
            " 0   UserId                  1083818 non-null  int64  \n",
            " 1   TransactionId           1083818 non-null  int64  \n",
            " 2   TransactionTime         1083818 non-null  object \n",
            " 3   ItemCode                1083818 non-null  int64  \n",
            " 4   ItemDescription         1080910 non-null  object \n",
            " 5   NumberOfItemsPurchased  1083818 non-null  int64  \n",
            " 6   CostPerItem             1083818 non-null  float64\n",
            " 7   Country                 1083818 non-null  object \n",
            "dtypes: float64(1), int64(4), object(3)\n",
            "memory usage: 66.2+ MB\n"
          ],
          "name": "stdout"
        }
      ]
    },
    {
      "cell_type": "code",
      "metadata": {
        "id": "pZaeHHktxTi_",
        "colab": {
          "base_uri": "https://localhost:8080/",
          "height": 195
        },
        "outputId": "7dc4d18c-4c08-49f3-a19a-001ace7f0f5e"
      },
      "source": [
        "df1.corr()"
      ],
      "execution_count": null,
      "outputs": [
        {
          "output_type": "execute_result",
          "data": {
            "text/html": [
              "<div>\n",
              "<style scoped>\n",
              "    .dataframe tbody tr th:only-of-type {\n",
              "        vertical-align: middle;\n",
              "    }\n",
              "\n",
              "    .dataframe tbody tr th {\n",
              "        vertical-align: top;\n",
              "    }\n",
              "\n",
              "    .dataframe thead th {\n",
              "        text-align: right;\n",
              "    }\n",
              "</style>\n",
              "<table border=\"1\" class=\"dataframe\">\n",
              "  <thead>\n",
              "    <tr style=\"text-align: right;\">\n",
              "      <th></th>\n",
              "      <th>UserId</th>\n",
              "      <th>TransactionId</th>\n",
              "      <th>ItemCode</th>\n",
              "      <th>NumberOfItemsPurchased</th>\n",
              "      <th>CostPerItem</th>\n",
              "    </tr>\n",
              "  </thead>\n",
              "  <tbody>\n",
              "    <tr>\n",
              "      <th>UserId</th>\n",
              "      <td>1.000000</td>\n",
              "      <td>0.080351</td>\n",
              "      <td>-0.051638</td>\n",
              "      <td>0.018702</td>\n",
              "      <td>-0.000746</td>\n",
              "    </tr>\n",
              "    <tr>\n",
              "      <th>TransactionId</th>\n",
              "      <td>0.080351</td>\n",
              "      <td>1.000000</td>\n",
              "      <td>-0.079268</td>\n",
              "      <td>0.000270</td>\n",
              "      <td>-0.002629</td>\n",
              "    </tr>\n",
              "    <tr>\n",
              "      <th>ItemCode</th>\n",
              "      <td>-0.051638</td>\n",
              "      <td>-0.079268</td>\n",
              "      <td>1.000000</td>\n",
              "      <td>0.000700</td>\n",
              "      <td>-0.001770</td>\n",
              "    </tr>\n",
              "    <tr>\n",
              "      <th>NumberOfItemsPurchased</th>\n",
              "      <td>0.018702</td>\n",
              "      <td>0.000270</td>\n",
              "      <td>0.000700</td>\n",
              "      <td>1.000000</td>\n",
              "      <td>-0.000081</td>\n",
              "    </tr>\n",
              "    <tr>\n",
              "      <th>CostPerItem</th>\n",
              "      <td>-0.000746</td>\n",
              "      <td>-0.002629</td>\n",
              "      <td>-0.001770</td>\n",
              "      <td>-0.000081</td>\n",
              "      <td>1.000000</td>\n",
              "    </tr>\n",
              "  </tbody>\n",
              "</table>\n",
              "</div>"
            ],
            "text/plain": [
              "                          UserId  ...  CostPerItem\n",
              "UserId                  1.000000  ...    -0.000746\n",
              "TransactionId           0.080351  ...    -0.002629\n",
              "ItemCode               -0.051638  ...    -0.001770\n",
              "NumberOfItemsPurchased  0.018702  ...    -0.000081\n",
              "CostPerItem            -0.000746  ...     1.000000\n",
              "\n",
              "[5 rows x 5 columns]"
            ]
          },
          "metadata": {
            "tags": []
          },
          "execution_count": 10
        }
      ]
    },
    {
      "cell_type": "code",
      "metadata": {
        "id": "K6ZmvfG3DOq-",
        "colab": {
          "base_uri": "https://localhost:8080/",
          "height": 168
        },
        "outputId": "9b563f82-541c-49c9-e863-c8844c0d262c"
      },
      "source": [
        "df1.isna().sum()"
      ],
      "execution_count": null,
      "outputs": [
        {
          "output_type": "execute_result",
          "data": {
            "text/plain": [
              "UserId                       0\n",
              "TransactionId                0\n",
              "TransactionTime              0\n",
              "ItemCode                     0\n",
              "ItemDescription           2908\n",
              "NumberOfItemsPurchased       0\n",
              "CostPerItem                  0\n",
              "Country                      0\n",
              "dtype: int64"
            ]
          },
          "metadata": {
            "tags": []
          },
          "execution_count": 11
        }
      ]
    },
    {
      "cell_type": "markdown",
      "metadata": {
        "id": "L0qnh5zSwy2k"
      },
      "source": [
        "# FINDING TOTAL COST AND ADDING IT AS A COLOUMN TO EXISTING DATASET "
      ]
    },
    {
      "cell_type": "code",
      "metadata": {
        "id": "NRPSOSMnFyob"
      },
      "source": [
        "a=[]\n",
        "for i in range (0,len(df1)):\n",
        "  b=df1['NumberOfItemsPurchased'][i]*df1['CostPerItem'][i]\n",
        "  a.append(b)\n",
        "df1['TotalCost'] = np.array(a)"
      ],
      "execution_count": null,
      "outputs": []
    },
    {
      "cell_type": "code",
      "metadata": {
        "id": "GQMIgpGWFsen",
        "colab": {
          "base_uri": "https://localhost:8080/",
          "height": 195
        },
        "outputId": "8543b3c3-41db-4a42-861f-2f6577bf371c"
      },
      "source": [
        "df.head()"
      ],
      "execution_count": null,
      "outputs": [
        {
          "output_type": "execute_result",
          "data": {
            "text/html": [
              "<div>\n",
              "<style scoped>\n",
              "    .dataframe tbody tr th:only-of-type {\n",
              "        vertical-align: middle;\n",
              "    }\n",
              "\n",
              "    .dataframe tbody tr th {\n",
              "        vertical-align: top;\n",
              "    }\n",
              "\n",
              "    .dataframe thead th {\n",
              "        text-align: right;\n",
              "    }\n",
              "</style>\n",
              "<table border=\"1\" class=\"dataframe\">\n",
              "  <thead>\n",
              "    <tr style=\"text-align: right;\">\n",
              "      <th></th>\n",
              "      <th>UserId</th>\n",
              "      <th>TransactionId</th>\n",
              "      <th>TransactionTime</th>\n",
              "      <th>ItemCode</th>\n",
              "      <th>ItemDescription</th>\n",
              "      <th>NumberOfItemsPurchased</th>\n",
              "      <th>CostPerItem</th>\n",
              "      <th>Country</th>\n",
              "      <th>TotalCost</th>\n",
              "    </tr>\n",
              "  </thead>\n",
              "  <tbody>\n",
              "    <tr>\n",
              "      <th>0</th>\n",
              "      <td>278166</td>\n",
              "      <td>6355745</td>\n",
              "      <td>Sat Feb 02 12:50:00 IST 2019</td>\n",
              "      <td>465549</td>\n",
              "      <td>FAMILY ALBUM WHITE PICTURE FRAME</td>\n",
              "      <td>6</td>\n",
              "      <td>11.73</td>\n",
              "      <td>United Kingdom</td>\n",
              "      <td>70.38</td>\n",
              "    </tr>\n",
              "    <tr>\n",
              "      <th>1</th>\n",
              "      <td>337701</td>\n",
              "      <td>6283376</td>\n",
              "      <td>Wed Dec 26 09:06:00 IST 2018</td>\n",
              "      <td>482370</td>\n",
              "      <td>LONDON BUS COFFEE MUG</td>\n",
              "      <td>3</td>\n",
              "      <td>3.52</td>\n",
              "      <td>United Kingdom</td>\n",
              "      <td>10.56</td>\n",
              "    </tr>\n",
              "    <tr>\n",
              "      <th>2</th>\n",
              "      <td>267099</td>\n",
              "      <td>6385599</td>\n",
              "      <td>Fri Feb 15 09:45:00 IST 2019</td>\n",
              "      <td>490728</td>\n",
              "      <td>SET 12 COLOUR PENCILS DOLLY GIRL</td>\n",
              "      <td>72</td>\n",
              "      <td>0.90</td>\n",
              "      <td>France</td>\n",
              "      <td>64.80</td>\n",
              "    </tr>\n",
              "    <tr>\n",
              "      <th>3</th>\n",
              "      <td>380478</td>\n",
              "      <td>6044973</td>\n",
              "      <td>Fri Jun 22 07:14:00 IST 2018</td>\n",
              "      <td>459186</td>\n",
              "      <td>UNION JACK FLAG LUGGAGE TAG</td>\n",
              "      <td>3</td>\n",
              "      <td>1.73</td>\n",
              "      <td>United Kingdom</td>\n",
              "      <td>5.19</td>\n",
              "    </tr>\n",
              "    <tr>\n",
              "      <th>4</th>\n",
              "      <td>-1</td>\n",
              "      <td>6143225</td>\n",
              "      <td>Mon Sep 10 11:58:00 IST 2018</td>\n",
              "      <td>1733592</td>\n",
              "      <td>WASHROOM METAL SIGN</td>\n",
              "      <td>3</td>\n",
              "      <td>3.40</td>\n",
              "      <td>United Kingdom</td>\n",
              "      <td>10.20</td>\n",
              "    </tr>\n",
              "  </tbody>\n",
              "</table>\n",
              "</div>"
            ],
            "text/plain": [
              "   UserId  TransactionId  ...         Country  TotalCost\n",
              "0  278166        6355745  ...  United Kingdom      70.38\n",
              "1  337701        6283376  ...  United Kingdom      10.56\n",
              "2  267099        6385599  ...          France      64.80\n",
              "3  380478        6044973  ...  United Kingdom       5.19\n",
              "4      -1        6143225  ...  United Kingdom      10.20\n",
              "\n",
              "[5 rows x 9 columns]"
            ]
          },
          "metadata": {
            "tags": []
          },
          "execution_count": 14
        }
      ]
    },
    {
      "cell_type": "markdown",
      "metadata": {
        "id": "m09pypq8xA7k"
      },
      "source": [
        "# DROPPING DUPLICATE ROWS FROM DATSET"
      ]
    },
    {
      "cell_type": "code",
      "metadata": {
        "id": "fsgDbyYzFDtK",
        "colab": {
          "base_uri": "https://localhost:8080/",
          "height": 34
        },
        "outputId": "a0d209c9-4050-40a6-aa5a-735ce50fea8e"
      },
      "source": [
        "df=df1.drop_duplicates()\n",
        "len(df)"
      ],
      "execution_count": null,
      "outputs": [
        {
          "output_type": "execute_result",
          "data": {
            "text/plain": [
              "536572"
            ]
          },
          "metadata": {
            "tags": []
          },
          "execution_count": 13
        }
      ]
    },
    {
      "cell_type": "markdown",
      "metadata": {
        "id": "3puhrwMWxU5R"
      },
      "source": [
        "# FINDING THE TOTALCOST SPENT PER TRANSACTION"
      ]
    },
    {
      "cell_type": "code",
      "metadata": {
        "id": "gUHyn7BKCQ17",
        "colab": {
          "base_uri": "https://localhost:8080/",
          "height": 235
        },
        "outputId": "49281da7-43b2-41e8-86af-1f6aa08b7f43"
      },
      "source": [
        "mt1=df.groupby(['TransactionId'])['TotalCost'].sum()\n",
        "mt1"
      ],
      "execution_count": null,
      "outputs": [
        {
          "output_type": "execute_result",
          "data": {
            "text/plain": [
              "TransactionId\n",
              "5900015     576.30\n",
              "5900026      92.16\n",
              "5900037    1155.54\n",
              "5900048     290.34\n",
              "5900059      73.98\n",
              "            ...   \n",
              "6397413     517.68\n",
              "6397424     584.64\n",
              "6397435    1366.92\n",
              "6397446    1405.80\n",
              "6397457    1034.52\n",
              "Name: TotalCost, Length: 25900, dtype: float64"
            ]
          },
          "metadata": {
            "tags": []
          },
          "execution_count": 29
        }
      ]
    },
    {
      "cell_type": "markdown",
      "metadata": {
        "id": "0luiDXK_zIbQ"
      },
      "source": [
        "# MAXIMUM AMOUNT SPENT PER TRANSACTION"
      ]
    },
    {
      "cell_type": "code",
      "metadata": {
        "id": "zIrKZqEpy-zU",
        "colab": {
          "base_uri": "https://localhost:8080/",
          "height": 34
        },
        "outputId": "d8981bfd-2e48-4e93-d71b-4c1aefcb2017"
      },
      "source": [
        "max_cost=sorted(mt1 ,reverse=True)\n",
        "\n",
        "print(max_cost[0:1])\n",
        "\n"
      ],
      "execution_count": null,
      "outputs": [
        {
          "output_type": "stream",
          "text": [
            "[40710850.56]\n"
          ],
          "name": "stdout"
        }
      ]
    },
    {
      "cell_type": "markdown",
      "metadata": {
        "id": "1L-omA5myuwl"
      },
      "source": [
        "# FINDING THE AVERAGE AMOUNT SPENT PER TRANSACTION"
      ]
    },
    {
      "cell_type": "code",
      "metadata": {
        "id": "5MJUH3MSBS1B",
        "colab": {
          "base_uri": "https://localhost:8080/",
          "height": 235
        },
        "outputId": "991ebd03-d232-4724-ec12-04d921f38ebe"
      },
      "source": [
        "mt=df.groupby(['TransactionId'])['TotalCost'].mean()\n",
        "mt\n"
      ],
      "execution_count": null,
      "outputs": [
        {
          "output_type": "execute_result",
          "data": {
            "text/plain": [
              "TransactionId\n",
              "5900015     82.328571\n",
              "5900026     46.080000\n",
              "5900037     96.295000\n",
              "5900048     72.585000\n",
              "5900059     73.980000\n",
              "              ...    \n",
              "6397413    258.840000\n",
              "6397424    292.320000\n",
              "6397435     65.091429\n",
              "6397446    351.450000\n",
              "6397457     68.968000\n",
              "Name: TotalCost, Length: 25900, dtype: float64"
            ]
          },
          "metadata": {
            "tags": []
          },
          "execution_count": 63
        }
      ]
    },
    {
      "cell_type": "markdown",
      "metadata": {
        "id": "WAkkqrFQzzBq"
      },
      "source": [
        "# Finding the count and list of unique products in the datset"
      ]
    },
    {
      "cell_type": "code",
      "metadata": {
        "id": "2Pq02PmFQpG9",
        "colab": {
          "base_uri": "https://localhost:8080/",
          "height": 101
        },
        "outputId": "329265c9-b868-4cce-e281-49c048f8ef02"
      },
      "source": [
        "\n",
        "print('The count of unique products:',len(df['ItemDescription'].unique()))\n",
        "print('**********')\n",
        "print('The list of unique products:',df['ItemDescription'].unique())"
      ],
      "execution_count": null,
      "outputs": [
        {
          "output_type": "stream",
          "text": [
            "The count of unique products: 4224\n",
            "**********\n",
            "The list of unique products: ['FAMILY ALBUM WHITE PICTURE FRAME' 'LONDON BUS COFFEE MUG'\n",
            " 'SET 12 COLOUR PENCILS DOLLY GIRL ' ... 'mouldy'\n",
            " '4 GOLD FLOCK CHRISTMAS BALLS' 'BAKING MOULD CUPCAKE CHOCOLATE']\n"
          ],
          "name": "stdout"
        }
      ]
    },
    {
      "cell_type": "markdown",
      "metadata": {
        "id": "2_DHu-nrz8sU"
      },
      "source": [
        "#Finding the count and list of unique transactions in the datset"
      ]
    },
    {
      "cell_type": "code",
      "metadata": {
        "id": "YGxlUiK9R6lN",
        "colab": {
          "base_uri": "https://localhost:8080/",
          "height": 67
        },
        "outputId": "a2e5a8c0-8b55-45c6-84a7-714acb3b1d2c"
      },
      "source": [
        "\n",
        "print('The count of unique transactions:',len(df['TransactionId'].unique()))\n",
        "print('**********')\n",
        "print('The list of unique transactions:',df['TransactionId'].unique())"
      ],
      "execution_count": null,
      "outputs": [
        {
          "output_type": "stream",
          "text": [
            "The count of unique transactions: 25900\n",
            "**********\n",
            "The list of unique transactions: [6355745 6283376 6385599 ... 6040947 6272178 5973539]\n"
          ],
          "name": "stdout"
        }
      ]
    },
    {
      "cell_type": "markdown",
      "metadata": {
        "id": "JxGC22_I0FIn"
      },
      "source": [
        "#Finding the count and list of unique users in the datset"
      ]
    },
    {
      "cell_type": "code",
      "metadata": {
        "id": "tneHveQaSFRZ",
        "colab": {
          "base_uri": "https://localhost:8080/",
          "height": 67
        },
        "outputId": "ba333c33-b070-440d-834e-45619911c594"
      },
      "source": [
        "\n",
        "print('The count of unique users:',len(df['UserId'].unique()))\n",
        "print('**********')\n",
        "print('The list of unique users:',df['UserId'].unique())"
      ],
      "execution_count": null,
      "outputs": [
        {
          "output_type": "stream",
          "text": [
            "The count of unique users: 4373\n",
            "**********\n",
            "The list of unique users: [278166 337701 267099 ... 329028 374766 376908]\n"
          ],
          "name": "stdout"
        }
      ]
    },
    {
      "cell_type": "markdown",
      "metadata": {
        "id": "yZaUxCGdwQv0"
      },
      "source": [
        "# DATA VISUALISATION\n",
        "\n"
      ]
    },
    {
      "cell_type": "markdown",
      "metadata": {
        "id": "Cqd6iV-v0Kws"
      },
      "source": [
        "# Frequency of most bought items itemcode wise"
      ]
    },
    {
      "cell_type": "code",
      "metadata": {
        "id": "bU_X490DpGnx",
        "colab": {
          "base_uri": "https://localhost:8080/",
          "height": 484
        },
        "outputId": "d8416b67-119a-4f6b-fb14-3f9a6c92d0bd"
      },
      "source": [
        "plt.rcParams['figure.figsize'] = (18, 7)\n",
        "color = plt.cm.copper(np.linspace(0, 1, 40))\n",
        "df['ItemCode'].value_counts().head(40).plot.bar(color = color)\n",
        "plt.title('frequency of most bought items itemcode wise', fontsize = 20)\n",
        "plt.xticks(rotation = 90 )\n",
        "plt.grid()\n",
        "plt.show()"
      ],
      "execution_count": null,
      "outputs": [
        {
          "output_type": "display_data",
          "data": {
            "image/png": "[encoded data removed]",
            "text/plain": [
              "<Figure size 1296x504 with 1 Axes>"
            ]
          },
          "metadata": {
            "tags": [],
            "needs_background": "light"
          }
        }
      ]
    },
    {
      "cell_type": "markdown",
      "metadata": {
        "id": "KsHIPda_0SXn"
      },
      "source": [
        "# Tree map for most 50 popular items"
      ]
    },
    {
      "cell_type": "code",
      "metadata": {
        "id": "9WCtuUd7rxz7",
        "colab": {
          "base_uri": "https://localhost:8080/",
          "height": 437
        },
        "outputId": "8d7ce198-e6be-4210-9a6c-1b2decff9a46"
      },
      "source": [
        "y = df['ItemDescription'].value_counts().head(50).to_frame()\n",
        "y.index"
      ],
      "execution_count": null,
      "outputs": [
        {
          "output_type": "execute_result",
          "data": {
            "text/plain": [
              "Index(['WHITE HANGING HEART T-LIGHT HOLDER', 'REGENCY CAKESTAND 3 TIER',\n",
              "       'JUMBO BAG RED RETROSPOT', 'PARTY BUNTING', 'LUNCH BAG RED RETROSPOT',\n",
              "       'ASSORTED COLOUR BIRD ORNAMENT', 'SET OF 3 CAKE TINS PANTRY DESIGN',\n",
              "       'PACK OF 72 RETROSPOT CAKE CASES', 'LUNCH BAG  BLACK SKULL.',\n",
              "       'NATURAL SLATE HEART CHALKBOARD', 'POSTAGE', 'JUMBO BAG PINK POLKADOT',\n",
              "       'HEART OF WICKER SMALL', 'JAM MAKING SET WITH JARS',\n",
              "       'JUMBO STORAGE BAG SUKI', 'PAPER CHAIN KIT 50'S CHRISTMAS',\n",
              "       'JUMBO SHOPPER VINTAGE RED PAISLEY', 'LUNCH BAG CARS BLUE',\n",
              "       'LUNCH BAG SPACEBOY DESIGN', 'JAM MAKING SET PRINTED',\n",
              "       'RECIPE BOX PANTRY YELLOW DESIGN', 'SPOTTY BUNTING',\n",
              "       'LUNCH BAG SUKI DESIGN', 'ROSES REGENCY TEACUP AND SAUCER',\n",
              "       'LUNCH BAG PINK POLKADOT', 'WOODEN PICTURE FRAME WHITE FINISH',\n",
              "       'SET OF 4 PANTRY JELLY MOULDS', 'ALARM CLOCK BAKELIKE RED',\n",
              "       'GREEN REGENCY TEACUP AND SAUCER', 'LUNCH BAG APPLE DESIGN',\n",
              "       'VICTORIAN GLASS HANGING T-LIGHT', 'RED RETROSPOT CHARLOTTE BAG',\n",
              "       'LUNCH BAG WOODLAND', 'RABBIT NIGHT LIGHT',\n",
              "       'ALARM CLOCK BAKELIKE GREEN', 'SET/20 RED RETROSPOT PAPER NAPKINS',\n",
              "       'JUMBO BAG APPLES', 'WOODEN FRAME ANTIQUE WHITE',\n",
              "       'RETROSPOT TEA SET CERAMIC 11 PC', '6 RIBBONS RUSTIC CHARM',\n",
              "       'BAKING SET 9 PIECE RETROSPOT', 'REX CASH+CARRY JUMBO SHOPPER',\n",
              "       'HEART OF WICKER LARGE', 'JUMBO  BAG BAROQUE BLACK WHITE',\n",
              "       'VINTAGE SNAP CARDS', 'GARDENERS KNEELING PAD KEEP CALM',\n",
              "       'SET/5 RED RETROSPOT LID GLASS BOWLS', 'JUMBO BAG ALPHABET',\n",
              "       'SPACEBOY LUNCH BOX', 'SET OF 3 REGENCY CAKE TINS'],\n",
              "      dtype='object')"
            ]
          },
          "metadata": {
            "tags": []
          },
          "execution_count": 43
        }
      ]
    },
    {
      "cell_type": "code",
      "metadata": {
        "id": "MeOF3ch6sS_a",
        "colab": {
          "base_uri": "https://localhost:8080/",
          "height": 1392
        },
        "outputId": "19f9f366-2e7d-4b1f-bb8a-b00f7c12d83f"
      },
      "source": [
        "\n",
        "plt.rcParams['figure.figsize'] = (30, 30)\n",
        "color = plt.cm.cool(np.linspace(0, 1, 50))\n",
        "squarify.plot(sizes = y.values, label = y.index, alpha=.8, color = color)\n",
        "plt.title('Tree Map for Popular Items')\n",
        "plt.axis('off')\n",
        "plt.show()"
      ],
      "execution_count": null,
      "outputs": [
        {
          "output_type": "display_data",
          "data": {
            "image/png": "[encoded data removed]",
            "text/plain": [
              "<Figure size 2160x2160 with 1 Axes>"
            ]
          },
          "metadata": {
            "tags": [],
            "needs_background": "light"
          }
        }
      ]
    },
    {
      "cell_type": "markdown",
      "metadata": {
        "id": "Qg4x611V0mPX"
      },
      "source": [
        "# Top 5 countries based on No.of Transactions"
      ]
    },
    {
      "cell_type": "code",
      "metadata": {
        "id": "5yxO4x0rWNPA",
        "colab": {
          "base_uri": "https://localhost:8080/",
          "height": 118
        },
        "outputId": "cf5c43e3-50d2-451c-9a42-b6b10ea4bc73"
      },
      "source": [
        "df['Country'].value_counts()[:5]"
      ],
      "execution_count": null,
      "outputs": [
        {
          "output_type": "execute_result",
          "data": {
            "text/plain": [
              "United Kingdom    990956\n",
              "Germany            18990\n",
              "France             17114\n",
              "EIRE               16392\n",
              "Spain               5066\n",
              "Name: Country, dtype: int64"
            ]
          },
          "metadata": {
            "tags": []
          },
          "execution_count": 76
        }
      ]
    },
    {
      "cell_type": "code",
      "metadata": {
        "id": "R7KN-PSaV-tW",
        "colab": {
          "base_uri": "https://localhost:8080/",
          "height": 536
        },
        "outputId": "abe86a78-37d5-4c82-f533-a61d1fb36050"
      },
      "source": [
        "\n",
        "plt.figure(figsize = (12,6))\n",
        "df['Country'].value_counts()[:5].plot(kind = 'pie')\n",
        "plt.title(\"Top 5 countries based on no.of transactions\", weight = 'bold')\n"
      ],
      "execution_count": null,
      "outputs": [
        {
          "output_type": "execute_result",
          "data": {
            "text/plain": [
              "Text(0.5, 1.0, 'Top 5 countries based on no.of transactions')"
            ]
          },
          "metadata": {
            "tags": []
          },
          "execution_count": 79
        },
        {
          "output_type": "display_data",
          "data": {
            "image/png": "[encoded data removed]",
            "text/plain": [
              "<Figure size 1200x600 with 1 Axes>"
            ]
          },
          "metadata": {
            "tags": []
          }
        }
      ]
    },
    {
      "cell_type": "code",
      "metadata": {
        "id": "51hRdyd4SjHN",
        "colab": {
          "base_uri": "https://localhost:8080/",
          "height": 507
        },
        "outputId": "79c3cdd7-8e45-4b4a-c336-e48df4b3bda1"
      },
      "source": [
        "order_products_cart_prior = df.groupby('UserId')\n",
        "n_items = order_products_cart_prior['TransactionId'].max()\n",
        "n, bins, patches = plt.hist(n_items, 100, facecolor=\"red\", alpha=.75, align='mid')\n",
        "plt.show()"
      ],
      "execution_count": null,
      "outputs": [
        {
          "output_type": "display_data",
          "data": {
            "image/png": "[encoded data removed]",
            "text/plain": [
              "<Figure size 800x550 with 1 Axes>"
            ]
          },
          "metadata": {
            "tags": []
          }
        }
      ]
    },
    {
      "cell_type": "markdown",
      "metadata": {
        "id": "blXnGc5x2TBq"
      },
      "source": [
        "# Top 5 Users who made maximum no.of transactions"
      ]
    },
    {
      "cell_type": "code",
      "metadata": {
        "id": "i3Y2oqocl6HZ",
        "colab": {
          "base_uri": "https://localhost:8080/",
          "height": 118
        },
        "outputId": "06dd19a9-33f8-46fc-ee97-ef9d64d7bd00"
      },
      "source": [
        "df['UserId'].value_counts()[:5].sort_values(ascending=False)"
      ],
      "execution_count": null,
      "outputs": [
        {
          "output_type": "execute_result",
          "data": {
            "text/plain": [
              "-1         270160\n",
              " 374661     15966\n",
              " 313131     11806\n",
              " 296016     10256\n",
              " 267708      9284\n",
              "Name: UserId, dtype: int64"
            ]
          },
          "metadata": {
            "tags": []
          },
          "execution_count": 88
        }
      ]
    },
    {
      "cell_type": "code",
      "metadata": {
        "id": "tyrB0Dw6nLjQ",
        "colab": {
          "base_uri": "https://localhost:8080/",
          "height": 499
        },
        "outputId": "8d85d73a-2ea3-4e8f-cc11-9d8bd71153a8"
      },
      "source": [
        "\n",
        "\n",
        "plt.figure(figsize = (12,6))\n",
        "df['UserId'].value_counts()[:5].sort_values(ascending=False).plot(kind = 'pie')\n",
        "        \n",
        "#draw a circle at the center of pie to make it look like a donut\n",
        "centre_circle = plt.Circle((0,0),0.75,color='black', fc='white',linewidth=1.25)\n",
        "fig = plt.gcf()\n",
        "fig.gca().add_artist(centre_circle)\n",
        "\n",
        "\n",
        "# Set aspect ratio to be equal so that pie is drawn as a circle.\n",
        "plt.axis('equal')\n",
        "plt.show()  "
      ],
      "execution_count": null,
      "outputs": [
        {
          "output_type": "display_data",
          "data": {
            "image/png": "[encoded data removed]",
            "text/plain": [
              "<Figure size 1200x600 with 1 Axes>"
            ]
          },
          "metadata": {
            "tags": []
          }
        }
      ]
    },
    {
      "cell_type": "markdown",
      "metadata": {
        "id": "zKcw4rhFTMl6"
      },
      "source": [
        "# 5 MAXIMUM ORDERS PLACED IN THESE TIMINGS"
      ]
    },
    {
      "cell_type": "code",
      "metadata": {
        "id": "pUl6zZpdUonb"
      },
      "source": [
        "order_products \n",
        "  group_by(df['UserId'])  \n",
        "  summarize(n_items = last()) \n",
        "  ggplot(aes(x=n_items))+\n",
        "  geom_histogram(stat=\"count\",fill=\"red\") + \n",
        "  geom_rug()+\n",
        "  coord_cartesian(xlim=c(0,80))"
      ],
      "execution_count": null,
      "outputs": []
    },
    {
      "cell_type": "code",
      "metadata": {
        "id": "QMhGl3anwc2o"
      },
      "source": [
        "order_hours = df.TransactionTime.value_counts()\n",
        "max_order_hours=order_hours.head()\n",
        "min_order_hours=order_hours.tail()"
      ],
      "execution_count": null,
      "outputs": []
    },
    {
      "cell_type": "code",
      "metadata": {
        "id": "uEpFgcMFOVlo",
        "colab": {
          "base_uri": "https://localhost:8080/",
          "height": 425
        },
        "outputId": "62291835-fb69-491e-8b14-94b6f5d23ec0"
      },
      "source": [
        "#No.of orders is maximum in this timings.\n",
        "max_order_hours.plot.bar()"
      ],
      "execution_count": null,
      "outputs": [
        {
          "output_type": "execute_result",
          "data": {
            "text/plain": [
              "<matplotlib.axes._subplots.AxesSubplot at 0x7fb6bfc1f940>"
            ]
          },
          "metadata": {
            "tags": []
          },
          "execution_count": 11
        },
        {
          "output_type": "display_data",
          "data": {
            "image/png": "[encoded data removed]",
            "text/plain": [
              "<Figure size 432x288 with 1 Axes>"
            ]
          },
          "metadata": {
            "tags": [],
            "needs_background": "light"
          }
        }
      ]
    },
    {
      "cell_type": "markdown",
      "metadata": {
        "id": "WvNU4mniRMo6"
      },
      "source": [
        "# 5 LEAST ORDER PLACED IN THESE TIMINGS "
      ]
    },
    {
      "cell_type": "code",
      "metadata": {
        "id": "QSu_v_0DQjOS",
        "colab": {
          "base_uri": "https://localhost:8080/",
          "height": 420
        },
        "outputId": "dca20ef2-8adf-406b-88a7-f18f5a5b9cba"
      },
      "source": [
        "min_order_hours.plot.bar()\n",
        "#No.of orders is minimum in this timings.And the no.of orders is 2 ."
      ],
      "execution_count": null,
      "outputs": [
        {
          "output_type": "execute_result",
          "data": {
            "text/plain": [
              "<matplotlib.axes._subplots.AxesSubplot at 0x7fb6bfaebe10>"
            ]
          },
          "metadata": {
            "tags": []
          },
          "execution_count": 12
        },
        {
          "output_type": "display_data",
          "data": {
            "image/png": "[encoded data removed]",
            "text/plain": [
              "<Figure size 432x288 with 1 Axes>"
            ]
          },
          "metadata": {
            "tags": [],
            "needs_background": "light"
          }
        }
      ]
    },
    {
      "cell_type": "markdown",
      "metadata": {
        "id": "MAPC9OnZj9N4"
      },
      "source": [
        "# PREDICTING THE ITEMS BOUGHT TOGETHER"
      ]
    },
    {
      "cell_type": "code",
      "metadata": {
        "id": "Ljc4TrvSvXD1",
        "colab": {
          "base_uri": "https://localhost:8080/",
          "height": 386
        },
        "outputId": "ba3f147e-a903-47ff-9dcc-d630f4e98289"
      },
      "source": [
        "df['ItemDescription'] = df['ItemDescription'].str.strip()\n",
        "df.dropna(axis=0, subset=['TransactionId'], inplace=True)\n",
        "df.dropna(axis=0, subset=['Country'], inplace=True)\n",
        "df['TransactionId'] = df['TransactionId'].astype('str')\n",
        "df = df[~df['TransactionId'].str.contains('C')]"
      ],
      "execution_count": null,
      "outputs": [
        {
          "output_type": "stream",
          "text": [
            "/usr/local/lib/python3.6/dist-packages/ipykernel_launcher.py:1: SettingWithCopyWarning: \n",
            "A value is trying to be set on a copy of a slice from a DataFrame.\n",
            "Try using .loc[row_indexer,col_indexer] = value instead\n",
            "\n",
            "See the caveats in the documentation: https://pandas.pydata.org/pandas-docs/stable/user_guide/indexing.html#returning-a-view-versus-a-copy\n",
            "  \"\"\"Entry point for launching an IPython kernel.\n",
            "/usr/local/lib/python3.6/dist-packages/ipykernel_launcher.py:2: SettingWithCopyWarning: \n",
            "A value is trying to be set on a copy of a slice from a DataFrame\n",
            "\n",
            "See the caveats in the documentation: https://pandas.pydata.org/pandas-docs/stable/user_guide/indexing.html#returning-a-view-versus-a-copy\n",
            "  \n",
            "/usr/local/lib/python3.6/dist-packages/ipykernel_launcher.py:3: SettingWithCopyWarning: \n",
            "A value is trying to be set on a copy of a slice from a DataFrame\n",
            "\n",
            "See the caveats in the documentation: https://pandas.pydata.org/pandas-docs/stable/user_guide/indexing.html#returning-a-view-versus-a-copy\n",
            "  This is separate from the ipykernel package so we can avoid doing imports until\n",
            "/usr/local/lib/python3.6/dist-packages/ipykernel_launcher.py:4: SettingWithCopyWarning: \n",
            "A value is trying to be set on a copy of a slice from a DataFrame.\n",
            "Try using .loc[row_indexer,col_indexer] = value instead\n",
            "\n",
            "See the caveats in the documentation: https://pandas.pydata.org/pandas-docs/stable/user_guide/indexing.html#returning-a-view-versus-a-copy\n",
            "  after removing the cwd from sys.path.\n"
          ],
          "name": "stderr"
        }
      ]
    },
    {
      "cell_type": "markdown",
      "metadata": {
        "id": "C9jMMkbQ2z_V"
      },
      "source": [
        "# Forming the basket from which frequent items bought could be found"
      ]
    },
    {
      "cell_type": "code",
      "metadata": {
        "id": "9a45xeVpvkKT"
      },
      "source": [
        "basket = (df\n",
        "          .groupby(['TransactionId', 'ItemCode'])['NumberOfItemsPurchased']\n",
        "          .sum().unstack().reset_index().fillna(0)\n",
        "          .set_index('TransactionId'))"
      ],
      "execution_count": null,
      "outputs": []
    },
    {
      "cell_type": "code",
      "metadata": {
        "id": "vMARFNaTv-fE"
      },
      "source": [
        "def encode_units(x):\n",
        "    if x <= 0:\n",
        "        return 0\n",
        "    if x >= 1:\n",
        "        return 1\n",
        "\n",
        "basket_sets = basket.applymap(encode_units)\n",
        "#basket_sets.drop('POSTAGE', inplace=True, axis=1)"
      ],
      "execution_count": null,
      "outputs": []
    },
    {
      "cell_type": "markdown",
      "metadata": {
        "id": "BqxkukNr3BcG"
      },
      "source": [
        "# Finding out the Frequent itemsets"
      ]
    },
    {
      "cell_type": "code",
      "metadata": {
        "id": "iWrTuk08wHi6",
        "colab": {
          "base_uri": "https://localhost:8080/",
          "height": 402
        },
        "outputId": "e70afb4e-da98-4511-efe0-fffe758723a8"
      },
      "source": [
        "frequent_itemsets = apriori(basket_sets, min_support=0.01, use_colnames=True)\n",
        "frequent_itemsets"
      ],
      "execution_count": null,
      "outputs": [
        {
          "output_type": "execute_result",
          "data": {
            "text/html": [
              "<div>\n",
              "<style scoped>\n",
              "    .dataframe tbody tr th:only-of-type {\n",
              "        vertical-align: middle;\n",
              "    }\n",
              "\n",
              "    .dataframe tbody tr th {\n",
              "        vertical-align: top;\n",
              "    }\n",
              "\n",
              "    .dataframe thead th {\n",
              "        text-align: right;\n",
              "    }\n",
              "</style>\n",
              "<table border=\"1\" class=\"dataframe\">\n",
              "  <thead>\n",
              "    <tr style=\"text-align: right;\">\n",
              "      <th></th>\n",
              "      <th>support</th>\n",
              "      <th>itemsets</th>\n",
              "    </tr>\n",
              "  </thead>\n",
              "  <tbody>\n",
              "    <tr>\n",
              "      <th>0</th>\n",
              "      <td>0.083050</td>\n",
              "      <td>(-1)</td>\n",
              "    </tr>\n",
              "    <tr>\n",
              "      <th>1</th>\n",
              "      <td>0.020000</td>\n",
              "      <td>(315756)</td>\n",
              "    </tr>\n",
              "    <tr>\n",
              "      <th>2</th>\n",
              "      <td>0.030154</td>\n",
              "      <td>(316176)</td>\n",
              "    </tr>\n",
              "    <tr>\n",
              "      <th>3</th>\n",
              "      <td>0.014749</td>\n",
              "      <td>(339381)</td>\n",
              "    </tr>\n",
              "    <tr>\n",
              "      <th>4</th>\n",
              "      <td>0.011197</td>\n",
              "      <td>(340977)</td>\n",
              "    </tr>\n",
              "    <tr>\n",
              "      <th>...</th>\n",
              "      <td>...</td>\n",
              "      <td>...</td>\n",
              "    </tr>\n",
              "    <tr>\n",
              "      <th>1146</th>\n",
              "      <td>0.013475</td>\n",
              "      <td>(487242, 487263, 1787079)</td>\n",
              "    </tr>\n",
              "    <tr>\n",
              "      <th>1147</th>\n",
              "      <td>0.011815</td>\n",
              "      <td>(487389, 487263, 1787079)</td>\n",
              "    </tr>\n",
              "    <tr>\n",
              "      <th>1148</th>\n",
              "      <td>0.010039</td>\n",
              "      <td>(469455, 435099, 435204, 435183)</td>\n",
              "    </tr>\n",
              "    <tr>\n",
              "      <th>1149</th>\n",
              "      <td>0.011081</td>\n",
              "      <td>(1787079, 460551, 470106, 470631)</td>\n",
              "    </tr>\n",
              "    <tr>\n",
              "      <th>1150</th>\n",
              "      <td>0.011622</td>\n",
              "      <td>(476658, 470883, 476637, 476679)</td>\n",
              "    </tr>\n",
              "  </tbody>\n",
              "</table>\n",
              "<p>1151 rows × 2 columns</p>\n",
              "</div>"
            ],
            "text/plain": [
              "       support                           itemsets\n",
              "0     0.083050                               (-1)\n",
              "1     0.020000                           (315756)\n",
              "2     0.030154                           (316176)\n",
              "3     0.014749                           (339381)\n",
              "4     0.011197                           (340977)\n",
              "...        ...                                ...\n",
              "1146  0.013475          (487242, 487263, 1787079)\n",
              "1147  0.011815          (487389, 487263, 1787079)\n",
              "1148  0.010039   (469455, 435099, 435204, 435183)\n",
              "1149  0.011081  (1787079, 460551, 470106, 470631)\n",
              "1150  0.011622   (476658, 470883, 476637, 476679)\n",
              "\n",
              "[1151 rows x 2 columns]"
            ]
          },
          "metadata": {
            "tags": []
          },
          "execution_count": 43
        }
      ]
    },
    {
      "cell_type": "markdown",
      "metadata": {
        "id": "1v3Syz-m5JDC"
      },
      "source": [
        "# The list of Itemcodes bought together with other itemcode"
      ]
    },
    {
      "cell_type": "code",
      "metadata": {
        "id": "Yam6oGwOwJ4b",
        "colab": {
          "base_uri": "https://localhost:8080/",
          "height": 402
        },
        "outputId": "24f145cb-848e-4589-be38-99a3882c33a5"
      },
      "source": [
        "rules = association_rules(frequent_itemsets, metric=\"lift\", min_threshold=1)\n",
        "rules\n",
        "# !!! Antecedant is the primary product which is bought frequently along with Consequents !!!"
      ],
      "execution_count": null,
      "outputs": [
        {
          "output_type": "execute_result",
          "data": {
            "text/html": [
              "<div>\n",
              "<style scoped>\n",
              "    .dataframe tbody tr th:only-of-type {\n",
              "        vertical-align: middle;\n",
              "    }\n",
              "\n",
              "    .dataframe tbody tr th {\n",
              "        vertical-align: top;\n",
              "    }\n",
              "\n",
              "    .dataframe thead th {\n",
              "        text-align: right;\n",
              "    }\n",
              "</style>\n",
              "<table border=\"1\" class=\"dataframe\">\n",
              "  <thead>\n",
              "    <tr style=\"text-align: right;\">\n",
              "      <th></th>\n",
              "      <th>antecedents</th>\n",
              "      <th>consequents</th>\n",
              "      <th>antecedent support</th>\n",
              "      <th>consequent support</th>\n",
              "      <th>support</th>\n",
              "      <th>confidence</th>\n",
              "      <th>lift</th>\n",
              "      <th>leverage</th>\n",
              "      <th>conviction</th>\n",
              "    </tr>\n",
              "  </thead>\n",
              "  <tbody>\n",
              "    <tr>\n",
              "      <th>0</th>\n",
              "      <td>(316176)</td>\n",
              "      <td>(-1)</td>\n",
              "      <td>0.030154</td>\n",
              "      <td>0.083050</td>\n",
              "      <td>0.011699</td>\n",
              "      <td>0.387964</td>\n",
              "      <td>4.671442</td>\n",
              "      <td>0.009195</td>\n",
              "      <td>1.498196</td>\n",
              "    </tr>\n",
              "    <tr>\n",
              "      <th>1</th>\n",
              "      <td>(-1)</td>\n",
              "      <td>(316176)</td>\n",
              "      <td>0.083050</td>\n",
              "      <td>0.030154</td>\n",
              "      <td>0.011699</td>\n",
              "      <td>0.140865</td>\n",
              "      <td>4.671442</td>\n",
              "      <td>0.009195</td>\n",
              "      <td>1.128862</td>\n",
              "    </tr>\n",
              "    <tr>\n",
              "      <th>2</th>\n",
              "      <td>(434931)</td>\n",
              "      <td>(-1)</td>\n",
              "      <td>0.020193</td>\n",
              "      <td>0.083050</td>\n",
              "      <td>0.011042</td>\n",
              "      <td>0.546845</td>\n",
              "      <td>6.584514</td>\n",
              "      <td>0.009365</td>\n",
              "      <td>2.023480</td>\n",
              "    </tr>\n",
              "    <tr>\n",
              "      <th>3</th>\n",
              "      <td>(-1)</td>\n",
              "      <td>(434931)</td>\n",
              "      <td>0.083050</td>\n",
              "      <td>0.020193</td>\n",
              "      <td>0.011042</td>\n",
              "      <td>0.132961</td>\n",
              "      <td>6.584514</td>\n",
              "      <td>0.009365</td>\n",
              "      <td>1.130062</td>\n",
              "    </tr>\n",
              "    <tr>\n",
              "      <th>4</th>\n",
              "      <td>(434952)</td>\n",
              "      <td>(-1)</td>\n",
              "      <td>0.033320</td>\n",
              "      <td>0.083050</td>\n",
              "      <td>0.017761</td>\n",
              "      <td>0.533024</td>\n",
              "      <td>6.418099</td>\n",
              "      <td>0.014993</td>\n",
              "      <td>1.963592</td>\n",
              "    </tr>\n",
              "    <tr>\n",
              "      <th>...</th>\n",
              "      <td>...</td>\n",
              "      <td>...</td>\n",
              "      <td>...</td>\n",
              "      <td>...</td>\n",
              "      <td>...</td>\n",
              "      <td>...</td>\n",
              "      <td>...</td>\n",
              "      <td>...</td>\n",
              "      <td>...</td>\n",
              "    </tr>\n",
              "    <tr>\n",
              "      <th>1609</th>\n",
              "      <td>(476637, 476679)</td>\n",
              "      <td>(476658, 470883)</td>\n",
              "      <td>0.029653</td>\n",
              "      <td>0.015135</td>\n",
              "      <td>0.011622</td>\n",
              "      <td>0.391927</td>\n",
              "      <td>25.895182</td>\n",
              "      <td>0.011173</td>\n",
              "      <td>1.619649</td>\n",
              "    </tr>\n",
              "    <tr>\n",
              "      <th>1610</th>\n",
              "      <td>(476658)</td>\n",
              "      <td>(470883, 476637, 476679)</td>\n",
              "      <td>0.029575</td>\n",
              "      <td>0.015753</td>\n",
              "      <td>0.011622</td>\n",
              "      <td>0.392950</td>\n",
              "      <td>24.944645</td>\n",
              "      <td>0.011156</td>\n",
              "      <td>1.621362</td>\n",
              "    </tr>\n",
              "    <tr>\n",
              "      <th>1611</th>\n",
              "      <td>(470883)</td>\n",
              "      <td>(476658, 476637, 476679)</td>\n",
              "      <td>0.076795</td>\n",
              "      <td>0.020927</td>\n",
              "      <td>0.011622</td>\n",
              "      <td>0.151332</td>\n",
              "      <td>7.231563</td>\n",
              "      <td>0.010015</td>\n",
              "      <td>1.153659</td>\n",
              "    </tr>\n",
              "    <tr>\n",
              "      <th>1612</th>\n",
              "      <td>(476637)</td>\n",
              "      <td>(476658, 470883, 476679)</td>\n",
              "      <td>0.039189</td>\n",
              "      <td>0.012780</td>\n",
              "      <td>0.011622</td>\n",
              "      <td>0.296552</td>\n",
              "      <td>23.204500</td>\n",
              "      <td>0.011121</td>\n",
              "      <td>1.403401</td>\n",
              "    </tr>\n",
              "    <tr>\n",
              "      <th>1613</th>\n",
              "      <td>(476679)</td>\n",
              "      <td>(476658, 470883, 476637)</td>\n",
              "      <td>0.041158</td>\n",
              "      <td>0.013243</td>\n",
              "      <td>0.011622</td>\n",
              "      <td>0.282364</td>\n",
              "      <td>21.321362</td>\n",
              "      <td>0.011077</td>\n",
              "      <td>1.375010</td>\n",
              "    </tr>\n",
              "  </tbody>\n",
              "</table>\n",
              "<p>1614 rows × 9 columns</p>\n",
              "</div>"
            ],
            "text/plain": [
              "           antecedents               consequents  ...  leverage  conviction\n",
              "0             (316176)                      (-1)  ...  0.009195    1.498196\n",
              "1                 (-1)                  (316176)  ...  0.009195    1.128862\n",
              "2             (434931)                      (-1)  ...  0.009365    2.023480\n",
              "3                 (-1)                  (434931)  ...  0.009365    1.130062\n",
              "4             (434952)                      (-1)  ...  0.014993    1.963592\n",
              "...                ...                       ...  ...       ...         ...\n",
              "1609  (476637, 476679)          (476658, 470883)  ...  0.011173    1.619649\n",
              "1610          (476658)  (470883, 476637, 476679)  ...  0.011156    1.621362\n",
              "1611          (470883)  (476658, 476637, 476679)  ...  0.010015    1.153659\n",
              "1612          (476637)  (476658, 470883, 476679)  ...  0.011121    1.403401\n",
              "1613          (476679)  (476658, 470883, 476637)  ...  0.011077    1.375010\n",
              "\n",
              "[1614 rows x 9 columns]"
            ]
          },
          "metadata": {
            "tags": []
          },
          "execution_count": 69
        }
      ]
    },
    {
      "cell_type": "markdown",
      "metadata": {
        "id": "g23I4cEf5ccu"
      },
      "source": [
        "# Finding the Items bought together with the confidence level more than 70%"
      ]
    },
    {
      "cell_type": "code",
      "metadata": {
        "id": "eDXwhCjwwLdh"
      },
      "source": [
        "rules1=rules[ (rules['lift'] >= 6) &\n",
        "       (rules['confidence'] >= 0.7) ]"
      ],
      "execution_count": null,
      "outputs": []
    },
    {
      "cell_type": "code",
      "metadata": {
        "id": "vzXeQpC4lXCl",
        "colab": {
          "base_uri": "https://localhost:8080/",
          "height": 402
        },
        "outputId": "d4338b12-1620-4155-fa26-edd96b941684"
      },
      "source": [
        "rules1"
      ],
      "execution_count": null,
      "outputs": [
        {
          "output_type": "execute_result",
          "data": {
            "text/html": [
              "<div>\n",
              "<style scoped>\n",
              "    .dataframe tbody tr th:only-of-type {\n",
              "        vertical-align: middle;\n",
              "    }\n",
              "\n",
              "    .dataframe tbody tr th {\n",
              "        vertical-align: top;\n",
              "    }\n",
              "\n",
              "    .dataframe thead th {\n",
              "        text-align: right;\n",
              "    }\n",
              "</style>\n",
              "<table border=\"1\" class=\"dataframe\">\n",
              "  <thead>\n",
              "    <tr style=\"text-align: right;\">\n",
              "      <th></th>\n",
              "      <th>antecedents</th>\n",
              "      <th>consequents</th>\n",
              "      <th>antecedent support</th>\n",
              "      <th>consequent support</th>\n",
              "      <th>support</th>\n",
              "      <th>confidence</th>\n",
              "      <th>lift</th>\n",
              "      <th>leverage</th>\n",
              "      <th>conviction</th>\n",
              "    </tr>\n",
              "  </thead>\n",
              "  <tbody>\n",
              "    <tr>\n",
              "      <th>87</th>\n",
              "      <td>(1787751)</td>\n",
              "      <td>(-1)</td>\n",
              "      <td>0.011351</td>\n",
              "      <td>0.083050</td>\n",
              "      <td>0.010193</td>\n",
              "      <td>0.897959</td>\n",
              "      <td>10.812247</td>\n",
              "      <td>0.009250</td>\n",
              "      <td>8.986108</td>\n",
              "    </tr>\n",
              "    <tr>\n",
              "      <th>98</th>\n",
              "      <td>(434931)</td>\n",
              "      <td>(1787079)</td>\n",
              "      <td>0.020193</td>\n",
              "      <td>0.102664</td>\n",
              "      <td>0.015251</td>\n",
              "      <td>0.755258</td>\n",
              "      <td>7.356595</td>\n",
              "      <td>0.013178</td>\n",
              "      <td>3.666458</td>\n",
              "    </tr>\n",
              "    <tr>\n",
              "      <th>120</th>\n",
              "      <td>(434952)</td>\n",
              "      <td>(1787079)</td>\n",
              "      <td>0.033320</td>\n",
              "      <td>0.102664</td>\n",
              "      <td>0.024865</td>\n",
              "      <td>0.746234</td>\n",
              "      <td>7.268696</td>\n",
              "      <td>0.021444</td>\n",
              "      <td>3.536077</td>\n",
              "    </tr>\n",
              "    <tr>\n",
              "      <th>128</th>\n",
              "      <td>(434973)</td>\n",
              "      <td>(1787079)</td>\n",
              "      <td>0.025676</td>\n",
              "      <td>0.102664</td>\n",
              "      <td>0.018919</td>\n",
              "      <td>0.736842</td>\n",
              "      <td>7.177213</td>\n",
              "      <td>0.016283</td>\n",
              "      <td>3.409876</td>\n",
              "    </tr>\n",
              "    <tr>\n",
              "      <th>189</th>\n",
              "      <td>(469476)</td>\n",
              "      <td>(435204)</td>\n",
              "      <td>0.028687</td>\n",
              "      <td>0.039923</td>\n",
              "      <td>0.020154</td>\n",
              "      <td>0.702557</td>\n",
              "      <td>17.597903</td>\n",
              "      <td>0.019009</td>\n",
              "      <td>3.227771</td>\n",
              "    </tr>\n",
              "    <tr>\n",
              "      <th>...</th>\n",
              "      <td>...</td>\n",
              "      <td>...</td>\n",
              "      <td>...</td>\n",
              "      <td>...</td>\n",
              "      <td>...</td>\n",
              "      <td>...</td>\n",
              "      <td>...</td>\n",
              "      <td>...</td>\n",
              "      <td>...</td>\n",
              "    </tr>\n",
              "    <tr>\n",
              "      <th>1589</th>\n",
              "      <td>(470106, 470631, 460551)</td>\n",
              "      <td>(1787079)</td>\n",
              "      <td>0.011931</td>\n",
              "      <td>0.102664</td>\n",
              "      <td>0.011081</td>\n",
              "      <td>0.928803</td>\n",
              "      <td>9.047005</td>\n",
              "      <td>0.009856</td>\n",
              "      <td>12.603491</td>\n",
              "    </tr>\n",
              "    <tr>\n",
              "      <th>1600</th>\n",
              "      <td>(476658, 470883, 476637)</td>\n",
              "      <td>(476679)</td>\n",
              "      <td>0.013243</td>\n",
              "      <td>0.041158</td>\n",
              "      <td>0.011622</td>\n",
              "      <td>0.877551</td>\n",
              "      <td>21.321362</td>\n",
              "      <td>0.011077</td>\n",
              "      <td>7.830541</td>\n",
              "    </tr>\n",
              "    <tr>\n",
              "      <th>1601</th>\n",
              "      <td>(476658, 470883, 476679)</td>\n",
              "      <td>(476637)</td>\n",
              "      <td>0.012780</td>\n",
              "      <td>0.039189</td>\n",
              "      <td>0.011622</td>\n",
              "      <td>0.909366</td>\n",
              "      <td>23.204500</td>\n",
              "      <td>0.011121</td>\n",
              "      <td>10.600946</td>\n",
              "    </tr>\n",
              "    <tr>\n",
              "      <th>1603</th>\n",
              "      <td>(470883, 476637, 476679)</td>\n",
              "      <td>(476658)</td>\n",
              "      <td>0.015753</td>\n",
              "      <td>0.029575</td>\n",
              "      <td>0.011622</td>\n",
              "      <td>0.737745</td>\n",
              "      <td>24.944645</td>\n",
              "      <td>0.011156</td>\n",
              "      <td>3.700311</td>\n",
              "    </tr>\n",
              "    <tr>\n",
              "      <th>1604</th>\n",
              "      <td>(476658, 470883)</td>\n",
              "      <td>(476637, 476679)</td>\n",
              "      <td>0.015135</td>\n",
              "      <td>0.029653</td>\n",
              "      <td>0.011622</td>\n",
              "      <td>0.767857</td>\n",
              "      <td>25.895182</td>\n",
              "      <td>0.011173</td>\n",
              "      <td>4.179958</td>\n",
              "    </tr>\n",
              "  </tbody>\n",
              "</table>\n",
              "<p>124 rows × 9 columns</p>\n",
              "</div>"
            ],
            "text/plain": [
              "                   antecedents       consequents  ...  leverage  conviction\n",
              "87                   (1787751)              (-1)  ...  0.009250    8.986108\n",
              "98                    (434931)         (1787079)  ...  0.013178    3.666458\n",
              "120                   (434952)         (1787079)  ...  0.021444    3.536077\n",
              "128                   (434973)         (1787079)  ...  0.016283    3.409876\n",
              "189                   (469476)          (435204)  ...  0.019009    3.227771\n",
              "...                        ...               ...  ...       ...         ...\n",
              "1589  (470106, 470631, 460551)         (1787079)  ...  0.009856   12.603491\n",
              "1600  (476658, 470883, 476637)          (476679)  ...  0.011077    7.830541\n",
              "1601  (476658, 470883, 476679)          (476637)  ...  0.011121   10.600946\n",
              "1603  (470883, 476637, 476679)          (476658)  ...  0.011156    3.700311\n",
              "1604          (476658, 470883)  (476637, 476679)  ...  0.011173    4.179958\n",
              "\n",
              "[124 rows x 9 columns]"
            ]
          },
          "metadata": {
            "tags": []
          },
          "execution_count": 46
        }
      ]
    },
    {
      "cell_type": "markdown",
      "metadata": {
        "id": "A7dkf5rL5sEG"
      },
      "source": [
        "# Exporting the ouput to CSV and storing it in a drive"
      ]
    },
    {
      "cell_type": "code",
      "metadata": {
        "id": "03pSGAdtnQXh"
      },
      "source": [
        "rules.to_csv (r'/content/drive/My Drive/export_output.csv', index = False, header=True)\n"
      ],
      "execution_count": null,
      "outputs": []
    },
    {
      "cell_type": "markdown",
      "metadata": {
        "id": "FMW2IXSK52QP"
      },
      "source": [
        "# Add on Analysis\n",
        "# Based on Item Description"
      ]
    },
    {
      "cell_type": "code",
      "metadata": {
        "id": "DnprWnQWwYqB"
      },
      "source": [
        "basket1 = (df\n",
        "          .groupby(['TransactionId', 'ItemDescription'])['NumberOfItemsPurchased']\n",
        "          .sum().unstack().reset_index().fillna(0)\n",
        "          .set_index('TransactionId'))"
      ],
      "execution_count": null,
      "outputs": []
    },
    {
      "cell_type": "code",
      "metadata": {
        "id": "0vR9hdpypxqv"
      },
      "source": [
        "basket_sets1 = basket1.applymap(encode_units)"
      ],
      "execution_count": null,
      "outputs": []
    },
    {
      "cell_type": "code",
      "metadata": {
        "id": "BgKplXNep5Iz",
        "colab": {
          "base_uri": "https://localhost:8080/",
          "height": 402
        },
        "outputId": "aae6002c-76ff-48aa-bb14-eb3b74ce771c"
      },
      "source": [
        "frequent_itemsets1 = apriori(basket_sets1, min_support=0.01, use_colnames=True)\n",
        "frequent_itemsets1"
      ],
      "execution_count": null,
      "outputs": [
        {
          "output_type": "execute_result",
          "data": {
            "text/html": [
              "<div>\n",
              "<style scoped>\n",
              "    .dataframe tbody tr th:only-of-type {\n",
              "        vertical-align: middle;\n",
              "    }\n",
              "\n",
              "    .dataframe tbody tr th {\n",
              "        vertical-align: top;\n",
              "    }\n",
              "\n",
              "    .dataframe thead th {\n",
              "        text-align: right;\n",
              "    }\n",
              "</style>\n",
              "<table border=\"1\" class=\"dataframe\">\n",
              "  <thead>\n",
              "    <tr style=\"text-align: right;\">\n",
              "      <th></th>\n",
              "      <th>support</th>\n",
              "      <th>itemsets</th>\n",
              "    </tr>\n",
              "  </thead>\n",
              "  <tbody>\n",
              "    <tr>\n",
              "      <th>0</th>\n",
              "      <td>0.013008</td>\n",
              "      <td>(10 COLOUR SPACEBOY PEN)</td>\n",
              "    </tr>\n",
              "    <tr>\n",
              "      <th>1</th>\n",
              "      <td>0.010268</td>\n",
              "      <td>(12 MESSAGE CARDS WITH ENVELOPES)</td>\n",
              "    </tr>\n",
              "    <tr>\n",
              "      <th>2</th>\n",
              "      <td>0.014522</td>\n",
              "      <td>(12 PENCIL SMALL TUBE WOODLAND)</td>\n",
              "    </tr>\n",
              "    <tr>\n",
              "      <th>3</th>\n",
              "      <td>0.014808</td>\n",
              "      <td>(12 PENCILS SMALL TUBE RED RETROSPOT)</td>\n",
              "    </tr>\n",
              "    <tr>\n",
              "      <th>4</th>\n",
              "      <td>0.014522</td>\n",
              "      <td>(12 PENCILS SMALL TUBE SKULL)</td>\n",
              "    </tr>\n",
              "    <tr>\n",
              "      <th>...</th>\n",
              "      <td>...</td>\n",
              "      <td>...</td>\n",
              "    </tr>\n",
              "    <tr>\n",
              "      <th>1139</th>\n",
              "      <td>0.010022</td>\n",
              "      <td>(STRAWBERRY CHARLOTTE BAG, CHARLOTTE BAG SUKI ...</td>\n",
              "    </tr>\n",
              "    <tr>\n",
              "      <th>1140</th>\n",
              "      <td>0.010268</td>\n",
              "      <td>(CHARLOTTE BAG SUKI DESIGN, CHARLOTTE BAG PINK...</td>\n",
              "    </tr>\n",
              "    <tr>\n",
              "      <th>1141</th>\n",
              "      <td>0.010636</td>\n",
              "      <td>(STRAWBERRY CHARLOTTE BAG, CHARLOTTE BAG SUKI ...</td>\n",
              "    </tr>\n",
              "    <tr>\n",
              "      <th>1142</th>\n",
              "      <td>0.012313</td>\n",
              "      <td>(REGENCY CAKESTAND 3 TIER, PINK REGENCY TEACUP...</td>\n",
              "    </tr>\n",
              "    <tr>\n",
              "      <th>1143</th>\n",
              "      <td>0.010963</td>\n",
              "      <td>(JUMBO BAG PINK POLKADOT, JUMBO SHOPPER VINTAG...</td>\n",
              "    </tr>\n",
              "  </tbody>\n",
              "</table>\n",
              "<p>1144 rows × 2 columns</p>\n",
              "</div>"
            ],
            "text/plain": [
              "       support                                           itemsets\n",
              "0     0.013008                           (10 COLOUR SPACEBOY PEN)\n",
              "1     0.010268                  (12 MESSAGE CARDS WITH ENVELOPES)\n",
              "2     0.014522                    (12 PENCIL SMALL TUBE WOODLAND)\n",
              "3     0.014808              (12 PENCILS SMALL TUBE RED RETROSPOT)\n",
              "4     0.014522                      (12 PENCILS SMALL TUBE SKULL)\n",
              "...        ...                                                ...\n",
              "1139  0.010022  (STRAWBERRY CHARLOTTE BAG, CHARLOTTE BAG SUKI ...\n",
              "1140  0.010268  (CHARLOTTE BAG SUKI DESIGN, CHARLOTTE BAG PINK...\n",
              "1141  0.010636  (STRAWBERRY CHARLOTTE BAG, CHARLOTTE BAG SUKI ...\n",
              "1142  0.012313  (REGENCY CAKESTAND 3 TIER, PINK REGENCY TEACUP...\n",
              "1143  0.010963  (JUMBO BAG PINK POLKADOT, JUMBO SHOPPER VINTAG...\n",
              "\n",
              "[1144 rows x 2 columns]"
            ]
          },
          "metadata": {
            "tags": []
          },
          "execution_count": 79
        }
      ]
    },
    {
      "cell_type": "code",
      "metadata": {
        "id": "IalMlcB-p-fF",
        "colab": {
          "base_uri": "https://localhost:8080/",
          "height": 502
        },
        "outputId": "e620fea1-5531-45d1-85b0-72888138542f"
      },
      "source": [
        "rules1 = association_rules(frequent_itemsets1, metric=\"lift\", min_threshold=1)\n",
        "rules1"
      ],
      "execution_count": null,
      "outputs": [
        {
          "output_type": "execute_result",
          "data": {
            "text/html": [
              "<div>\n",
              "<style scoped>\n",
              "    .dataframe tbody tr th:only-of-type {\n",
              "        vertical-align: middle;\n",
              "    }\n",
              "\n",
              "    .dataframe tbody tr th {\n",
              "        vertical-align: top;\n",
              "    }\n",
              "\n",
              "    .dataframe thead th {\n",
              "        text-align: right;\n",
              "    }\n",
              "</style>\n",
              "<table border=\"1\" class=\"dataframe\">\n",
              "  <thead>\n",
              "    <tr style=\"text-align: right;\">\n",
              "      <th></th>\n",
              "      <th>antecedents</th>\n",
              "      <th>consequents</th>\n",
              "      <th>antecedent support</th>\n",
              "      <th>consequent support</th>\n",
              "      <th>support</th>\n",
              "      <th>confidence</th>\n",
              "      <th>lift</th>\n",
              "      <th>leverage</th>\n",
              "      <th>conviction</th>\n",
              "    </tr>\n",
              "  </thead>\n",
              "  <tbody>\n",
              "    <tr>\n",
              "      <th>0</th>\n",
              "      <td>(WHITE HANGING HEART T-LIGHT HOLDER)</td>\n",
              "      <td>(6 RIBBONS RUSTIC CHARM)</td>\n",
              "      <td>0.092449</td>\n",
              "      <td>0.039066</td>\n",
              "      <td>0.010513</td>\n",
              "      <td>0.113717</td>\n",
              "      <td>2.910912</td>\n",
              "      <td>0.006901</td>\n",
              "      <td>1.084229</td>\n",
              "    </tr>\n",
              "    <tr>\n",
              "      <th>1</th>\n",
              "      <td>(6 RIBBONS RUSTIC CHARM)</td>\n",
              "      <td>(WHITE HANGING HEART T-LIGHT HOLDER)</td>\n",
              "      <td>0.039066</td>\n",
              "      <td>0.092449</td>\n",
              "      <td>0.010513</td>\n",
              "      <td>0.269110</td>\n",
              "      <td>2.910912</td>\n",
              "      <td>0.006901</td>\n",
              "      <td>1.241707</td>\n",
              "    </tr>\n",
              "    <tr>\n",
              "      <th>2</th>\n",
              "      <td>(PAPER CHAIN KIT 50'S CHRISTMAS)</td>\n",
              "      <td>(60 CAKE CASES VINTAGE CHRISTMAS)</td>\n",
              "      <td>0.047452</td>\n",
              "      <td>0.025280</td>\n",
              "      <td>0.011086</td>\n",
              "      <td>0.233621</td>\n",
              "      <td>9.241248</td>\n",
              "      <td>0.009886</td>\n",
              "      <td>1.271850</td>\n",
              "    </tr>\n",
              "    <tr>\n",
              "      <th>3</th>\n",
              "      <td>(60 CAKE CASES VINTAGE CHRISTMAS)</td>\n",
              "      <td>(PAPER CHAIN KIT 50'S CHRISTMAS)</td>\n",
              "      <td>0.025280</td>\n",
              "      <td>0.047452</td>\n",
              "      <td>0.011086</td>\n",
              "      <td>0.438511</td>\n",
              "      <td>9.241248</td>\n",
              "      <td>0.009886</td>\n",
              "      <td>1.696470</td>\n",
              "    </tr>\n",
              "    <tr>\n",
              "      <th>4</th>\n",
              "      <td>(60 CAKE CASES VINTAGE CHRISTMAS)</td>\n",
              "      <td>(PAPER CHAIN KIT VINTAGE CHRISTMAS)</td>\n",
              "      <td>0.025280</td>\n",
              "      <td>0.033543</td>\n",
              "      <td>0.010227</td>\n",
              "      <td>0.404531</td>\n",
              "      <td>12.059949</td>\n",
              "      <td>0.009379</td>\n",
              "      <td>1.623017</td>\n",
              "    </tr>\n",
              "    <tr>\n",
              "      <th>...</th>\n",
              "      <td>...</td>\n",
              "      <td>...</td>\n",
              "      <td>...</td>\n",
              "      <td>...</td>\n",
              "      <td>...</td>\n",
              "      <td>...</td>\n",
              "      <td>...</td>\n",
              "      <td>...</td>\n",
              "      <td>...</td>\n",
              "    </tr>\n",
              "    <tr>\n",
              "      <th>1447</th>\n",
              "      <td>(JUMBO STORAGE BAG SUKI, JUMBO BAG RED RETROSPOT)</td>\n",
              "      <td>(JUMBO SHOPPER VINTAGE RED PAISLEY, JUMBO BAG ...</td>\n",
              "      <td>0.029616</td>\n",
              "      <td>0.019144</td>\n",
              "      <td>0.010963</td>\n",
              "      <td>0.370166</td>\n",
              "      <td>19.335624</td>\n",
              "      <td>0.010396</td>\n",
              "      <td>1.557324</td>\n",
              "    </tr>\n",
              "    <tr>\n",
              "      <th>1448</th>\n",
              "      <td>(JUMBO BAG PINK POLKADOT)</td>\n",
              "      <td>(JUMBO SHOPPER VINTAGE RED PAISLEY, JUMBO STOR...</td>\n",
              "      <td>0.049824</td>\n",
              "      <td>0.015954</td>\n",
              "      <td>0.010963</td>\n",
              "      <td>0.220033</td>\n",
              "      <td>13.792110</td>\n",
              "      <td>0.010168</td>\n",
              "      <td>1.261651</td>\n",
              "    </tr>\n",
              "    <tr>\n",
              "      <th>1449</th>\n",
              "      <td>(JUMBO SHOPPER VINTAGE RED PAISLEY)</td>\n",
              "      <td>(JUMBO STORAGE BAG SUKI, JUMBO BAG PINK POLKAD...</td>\n",
              "      <td>0.048065</td>\n",
              "      <td>0.016894</td>\n",
              "      <td>0.010963</td>\n",
              "      <td>0.228085</td>\n",
              "      <td>13.500650</td>\n",
              "      <td>0.010151</td>\n",
              "      <td>1.273593</td>\n",
              "    </tr>\n",
              "    <tr>\n",
              "      <th>1450</th>\n",
              "      <td>(JUMBO STORAGE BAG SUKI)</td>\n",
              "      <td>(JUMBO SHOPPER VINTAGE RED PAISLEY, JUMBO BAG ...</td>\n",
              "      <td>0.048433</td>\n",
              "      <td>0.015463</td>\n",
              "      <td>0.010963</td>\n",
              "      <td>0.226351</td>\n",
              "      <td>14.638585</td>\n",
              "      <td>0.010214</td>\n",
              "      <td>1.272590</td>\n",
              "    </tr>\n",
              "    <tr>\n",
              "      <th>1451</th>\n",
              "      <td>(JUMBO BAG RED RETROSPOT)</td>\n",
              "      <td>(JUMBO SHOPPER VINTAGE RED PAISLEY, JUMBO STOR...</td>\n",
              "      <td>0.085576</td>\n",
              "      <td>0.012640</td>\n",
              "      <td>0.010963</td>\n",
              "      <td>0.128107</td>\n",
              "      <td>10.134969</td>\n",
              "      <td>0.009881</td>\n",
              "      <td>1.132433</td>\n",
              "    </tr>\n",
              "  </tbody>\n",
              "</table>\n",
              "<p>1452 rows × 9 columns</p>\n",
              "</div>"
            ],
            "text/plain": [
              "                                            antecedents  ... conviction\n",
              "0                  (WHITE HANGING HEART T-LIGHT HOLDER)  ...   1.084229\n",
              "1                              (6 RIBBONS RUSTIC CHARM)  ...   1.241707\n",
              "2                      (PAPER CHAIN KIT 50'S CHRISTMAS)  ...   1.271850\n",
              "3                     (60 CAKE CASES VINTAGE CHRISTMAS)  ...   1.696470\n",
              "4                     (60 CAKE CASES VINTAGE CHRISTMAS)  ...   1.623017\n",
              "...                                                 ...  ...        ...\n",
              "1447  (JUMBO STORAGE BAG SUKI, JUMBO BAG RED RETROSPOT)  ...   1.557324\n",
              "1448                          (JUMBO BAG PINK POLKADOT)  ...   1.261651\n",
              "1449                (JUMBO SHOPPER VINTAGE RED PAISLEY)  ...   1.273593\n",
              "1450                           (JUMBO STORAGE BAG SUKI)  ...   1.272590\n",
              "1451                          (JUMBO BAG RED RETROSPOT)  ...   1.132433\n",
              "\n",
              "[1452 rows x 9 columns]"
            ]
          },
          "metadata": {
            "tags": []
          },
          "execution_count": 51
        }
      ]
    },
    {
      "cell_type": "code",
      "metadata": {
        "id": "SPjMiR6RqIbC",
        "colab": {
          "base_uri": "https://localhost:8080/",
          "height": 502
        },
        "outputId": "b8595b27-79ec-4318-bc44-33c40d0319d0"
      },
      "source": [
        "rules1[ (rules1['lift'] >= 6) &\n",
        "       (rules1['confidence'] >= 0.7) ]"
      ],
      "execution_count": null,
      "outputs": [
        {
          "output_type": "execute_result",
          "data": {
            "text/html": [
              "<div>\n",
              "<style scoped>\n",
              "    .dataframe tbody tr th:only-of-type {\n",
              "        vertical-align: middle;\n",
              "    }\n",
              "\n",
              "    .dataframe tbody tr th {\n",
              "        vertical-align: top;\n",
              "    }\n",
              "\n",
              "    .dataframe thead th {\n",
              "        text-align: right;\n",
              "    }\n",
              "</style>\n",
              "<table border=\"1\" class=\"dataframe\">\n",
              "  <thead>\n",
              "    <tr style=\"text-align: right;\">\n",
              "      <th></th>\n",
              "      <th>antecedents</th>\n",
              "      <th>consequents</th>\n",
              "      <th>antecedent support</th>\n",
              "      <th>consequent support</th>\n",
              "      <th>support</th>\n",
              "      <th>confidence</th>\n",
              "      <th>lift</th>\n",
              "      <th>leverage</th>\n",
              "      <th>conviction</th>\n",
              "    </tr>\n",
              "  </thead>\n",
              "  <tbody>\n",
              "    <tr>\n",
              "      <th>47</th>\n",
              "      <td>(PAINTED METAL PEARS ASSORTED)</td>\n",
              "      <td>(ASSORTED COLOUR BIRD ORNAMENT)</td>\n",
              "      <td>0.015135</td>\n",
              "      <td>0.059519</td>\n",
              "      <td>0.010595</td>\n",
              "      <td>0.700000</td>\n",
              "      <td>11.760962</td>\n",
              "      <td>0.009694</td>\n",
              "      <td>3.134937</td>\n",
              "    </tr>\n",
              "    <tr>\n",
              "      <th>52</th>\n",
              "      <td>(BAKING SET SPACEBOY DESIGN)</td>\n",
              "      <td>(BAKING SET 9 PIECE RETROSPOT)</td>\n",
              "      <td>0.019022</td>\n",
              "      <td>0.038207</td>\n",
              "      <td>0.013663</td>\n",
              "      <td>0.718280</td>\n",
              "      <td>18.799853</td>\n",
              "      <td>0.012936</td>\n",
              "      <td>3.413999</td>\n",
              "    </tr>\n",
              "    <tr>\n",
              "      <th>58</th>\n",
              "      <td>(TOILET METAL SIGN)</td>\n",
              "      <td>(BATHROOM METAL SIGN)</td>\n",
              "      <td>0.016567</td>\n",
              "      <td>0.027530</td>\n",
              "      <td>0.011986</td>\n",
              "      <td>0.723457</td>\n",
              "      <td>26.278789</td>\n",
              "      <td>0.011530</td>\n",
              "      <td>3.516521</td>\n",
              "    </tr>\n",
              "    <tr>\n",
              "      <th>68</th>\n",
              "      <td>(CANDLEHOLDER PINK HANGING HEART)</td>\n",
              "      <td>(WHITE HANGING HEART T-LIGHT HOLDER)</td>\n",
              "      <td>0.016281</td>\n",
              "      <td>0.092449</td>\n",
              "      <td>0.011536</td>\n",
              "      <td>0.708543</td>\n",
              "      <td>7.664175</td>\n",
              "      <td>0.010030</td>\n",
              "      <td>3.113840</td>\n",
              "    </tr>\n",
              "    <tr>\n",
              "      <th>96</th>\n",
              "      <td>(CHARLOTTE BAG PINK POLKADOT)</td>\n",
              "      <td>(RED RETROSPOT CHARLOTTE BAG)</td>\n",
              "      <td>0.030394</td>\n",
              "      <td>0.042297</td>\n",
              "      <td>0.021353</td>\n",
              "      <td>0.702557</td>\n",
              "      <td>16.609974</td>\n",
              "      <td>0.020068</td>\n",
              "      <td>3.219788</td>\n",
              "    </tr>\n",
              "    <tr>\n",
              "      <th>...</th>\n",
              "      <td>...</td>\n",
              "      <td>...</td>\n",
              "      <td>...</td>\n",
              "      <td>...</td>\n",
              "      <td>...</td>\n",
              "      <td>...</td>\n",
              "      <td>...</td>\n",
              "      <td>...</td>\n",
              "      <td>...</td>\n",
              "    </tr>\n",
              "    <tr>\n",
              "      <th>1425</th>\n",
              "      <td>(REGENCY CAKESTAND 3 TIER, PINK REGENCY TEACUP...</td>\n",
              "      <td>(ROSES REGENCY TEACUP AND SAUCER)</td>\n",
              "      <td>0.014031</td>\n",
              "      <td>0.043606</td>\n",
              "      <td>0.012313</td>\n",
              "      <td>0.877551</td>\n",
              "      <td>20.124402</td>\n",
              "      <td>0.011701</td>\n",
              "      <td>7.810548</td>\n",
              "    </tr>\n",
              "    <tr>\n",
              "      <th>1426</th>\n",
              "      <td>(REGENCY CAKESTAND 3 TIER, ROSES REGENCY TEACU...</td>\n",
              "      <td>(PINK REGENCY TEACUP AND SAUCER)</td>\n",
              "      <td>0.016690</td>\n",
              "      <td>0.031334</td>\n",
              "      <td>0.012313</td>\n",
              "      <td>0.737745</td>\n",
              "      <td>23.544278</td>\n",
              "      <td>0.011790</td>\n",
              "      <td>3.693604</td>\n",
              "    </tr>\n",
              "    <tr>\n",
              "      <th>1428</th>\n",
              "      <td>(REGENCY CAKESTAND 3 TIER, PINK REGENCY TEACUP...</td>\n",
              "      <td>(ROSES REGENCY TEACUP AND SAUCER, GREEN REGENC...</td>\n",
              "      <td>0.016035</td>\n",
              "      <td>0.031416</td>\n",
              "      <td>0.012313</td>\n",
              "      <td>0.767857</td>\n",
              "      <td>24.441453</td>\n",
              "      <td>0.011809</td>\n",
              "      <td>4.172361</td>\n",
              "    </tr>\n",
              "    <tr>\n",
              "      <th>1438</th>\n",
              "      <td>(JUMBO SHOPPER VINTAGE RED PAISLEY, JUMBO STOR...</td>\n",
              "      <td>(JUMBO BAG RED RETROSPOT)</td>\n",
              "      <td>0.012640</td>\n",
              "      <td>0.085576</td>\n",
              "      <td>0.010963</td>\n",
              "      <td>0.867314</td>\n",
              "      <td>10.134969</td>\n",
              "      <td>0.009881</td>\n",
              "      <td>6.891632</td>\n",
              "    </tr>\n",
              "    <tr>\n",
              "      <th>1439</th>\n",
              "      <td>(JUMBO SHOPPER VINTAGE RED PAISLEY, JUMBO BAG ...</td>\n",
              "      <td>(JUMBO STORAGE BAG SUKI)</td>\n",
              "      <td>0.015463</td>\n",
              "      <td>0.048433</td>\n",
              "      <td>0.010963</td>\n",
              "      <td>0.708995</td>\n",
              "      <td>14.638585</td>\n",
              "      <td>0.010214</td>\n",
              "      <td>3.269929</td>\n",
              "    </tr>\n",
              "  </tbody>\n",
              "</table>\n",
              "<p>110 rows × 9 columns</p>\n",
              "</div>"
            ],
            "text/plain": [
              "                                            antecedents  ... conviction\n",
              "47                       (PAINTED METAL PEARS ASSORTED)  ...   3.134937\n",
              "52                         (BAKING SET SPACEBOY DESIGN)  ...   3.413999\n",
              "58                                  (TOILET METAL SIGN)  ...   3.516521\n",
              "68                    (CANDLEHOLDER PINK HANGING HEART)  ...   3.113840\n",
              "96                        (CHARLOTTE BAG PINK POLKADOT)  ...   3.219788\n",
              "...                                                 ...  ...        ...\n",
              "1425  (REGENCY CAKESTAND 3 TIER, PINK REGENCY TEACUP...  ...   7.810548\n",
              "1426  (REGENCY CAKESTAND 3 TIER, ROSES REGENCY TEACU...  ...   3.693604\n",
              "1428  (REGENCY CAKESTAND 3 TIER, PINK REGENCY TEACUP...  ...   4.172361\n",
              "1438  (JUMBO SHOPPER VINTAGE RED PAISLEY, JUMBO STOR...  ...   6.891632\n",
              "1439  (JUMBO SHOPPER VINTAGE RED PAISLEY, JUMBO BAG ...  ...   3.269929\n",
              "\n",
              "[110 rows x 9 columns]"
            ]
          },
          "metadata": {
            "tags": []
          },
          "execution_count": 74
        }
      ]
    },
    {
      "cell_type": "code",
      "metadata": {
        "id": "ceVmDGKrqN4C"
      },
      "source": [
        ""
      ],
      "execution_count": null,
      "outputs": []
    }
  ]
}